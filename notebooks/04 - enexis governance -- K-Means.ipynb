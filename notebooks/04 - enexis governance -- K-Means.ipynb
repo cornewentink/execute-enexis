{
 "cells": [
  {
   "cell_type": "markdown",
   "id": "508b7349",
   "metadata": {},
   "source": [
    "# 04 - K-Means clustering\n",
    "This notebook performs K-Means clustering on the governance data set. It assumes the data was cleaned and placed in the cache by the \"Explore the Governance Data Set\" notebook.\n",
    "\n",
    "This notebook is based on the steps from this article on medium. https://medium.com/@rohithramesh1991/unsupervised-text-clustering-using-natural-language-processing-nlp-1a8bc18b048d\n"
   ]
  },
  {
   "cell_type": "markdown",
   "id": "97343f47",
   "metadata": {},
   "source": [
    "---\n",
    "## Dependencies and Imports\n",
    "\n",
    "Here we import the libraries we need to perform our analysis."
   ]
  },
  {
   "cell_type": "code",
   "execution_count": 14,
   "id": "fe7296be",
   "metadata": {},
   "outputs": [
    {
     "name": "stdout",
     "output_type": "stream",
     "text": [
      "python==3.9.13\n",
      "scikit-learn==1.0.2\n",
      "pandas==1.4.4\n",
      "matplotlib==3.5.2\n"
     ]
    }
   ],
   "source": [
    "import re\n",
    "import sys\n",
    "from pathlib import Path\n",
    "print(\"python=={}\".format(re.sub(r'\\s.*', '', sys.version)))\n",
    "\n",
    "from sklearn.cluster import KMeans\n",
    "from sklearn.metrics import silhouette_score\n",
    "from sklearn.decomposition import TruncatedSVD\n",
    "from sklearn.feature_extraction.text import CountVectorizer, TfidfVectorizer\n",
    "from sklearn import __version__ as sklearn__version__\n",
    "print(f\"scikit-learn=={sklearn__version__}\")\n",
    "\n",
    "import pandas as pd\n",
    "print(f\"pandas=={pd.__version__}\")\n",
    "ROW    = 0\n",
    "COLUMN = 1\n",
    "STRING = 'string'\n",
    "OBJECT = 'object'\n",
    "NUMBER = 'number'\n",
    "CATEGORY = 'category'\n",
    "INTEGER = 'integer'\n",
    "UNSIGNED = 'unsigned'\n",
    "FLOAT = 'float'\n",
    "\n",
    "import matplotlib.pyplot as plt\n",
    "from matplotlib import __version__ as matplotlib__version__\n",
    "print(f\"matplotlib=={matplotlib__version__}\")"
   ]
  },
  {
   "cell_type": "markdown",
   "id": "befeecf4",
   "metadata": {},
   "source": [
    "---\n",
    "## Apply K-Means to the Governance Data Set\n",
    "We applied LSA to the subset _duurzaamheidsvisie_ (DV) documents from the governance data set. Next step is applying K-Means clustering.\n",
    "\n",
    "### Step 1  Load the DV Documents from the Governance Data"
   ]
  },
  {
   "cell_type": "code",
   "execution_count": 15,
   "id": "c8d0716f",
   "metadata": {},
   "outputs": [
    {
     "name": "stdout",
     "output_type": "stream",
     "text": [
      "'Duurzaamheidsvisie' documents = ../cache/Governance/GM????DV??.txt\n"
     ]
    }
   ],
   "source": [
    "CACHE_DIR = '../cache/Governance'\n",
    "\n",
    "GLOB_DV = CACHE_DIR + '/GM????DV??.txt'\n",
    "\n",
    "# take a glob and make it iterable. We cannot use globs as objects, since these get\n",
    "# \"exhausted\" when you iterate over them.\n",
    "# https://stackoverflow.com/questions/51108256/how-to-take-a-pathname-string-with-wildcards-and-resolve-the-glob-with-pathlib\n",
    "def expand_glob(glob):\n",
    "    p = Path(glob)\n",
    "    return Path(p.parent).expanduser().glob(p.name)\n",
    "\n",
    "print(f\"'Duurzaamheidsvisie' documents = {GLOB_DV}\")\n",
    "\n",
    "DOCUMENT_BODY = 'body'\n",
    "\n",
    "def load_corpus_as_dataframe(glob):\n",
    "    df = pd.DataFrame(data   =[file.read_text() for file in expand_glob(glob)],\n",
    "                      index  =[file.stem        for file in expand_glob(glob)],\n",
    "                      columns=[DOCUMENT_BODY])\n",
    "    df[DOCUMENT_BODY] = df[DOCUMENT_BODY].astype(STRING)\n",
    "\n",
    "    return df\n"
   ]
  },
  {
   "cell_type": "code",
   "execution_count": 16,
   "id": "560c8c03",
   "metadata": {},
   "outputs": [],
   "source": [
    "# the caller is expected to select the right column from their data frame and\n",
    "# pass it in as a series.\n",
    "def compose_document_term_matrix_by_count(series, min_df=1):\n",
    "    vectorizer = CountVectorizer(min_df=min_df)\n",
    "    dt_matrix  = vectorizer.fit_transform(series)\n",
    "    dictionary = vectorizer.get_feature_names_out()\n",
    "\n",
    "    return pd.DataFrame(index=series.index, columns=dictionary, data=dt_matrix.toarray()), \\\n",
    "           dictionary\n"
   ]
  },
  {
   "cell_type": "code",
   "execution_count": 17,
   "id": "b410f3c1",
   "metadata": {},
   "outputs": [],
   "source": [
    "def perform_lsa(dt_matrix, dictionary, n_components=2):\n",
    "    svd = TruncatedSVD(n_components=n_components)\n",
    "    lsa = svd.fit_transform(dt_matrix)\n",
    "    topics = [f\"topic {n}\" for n in range(lsa.shape[1])]\n",
    "\n",
    "    return pd.DataFrame(index=dt_matrix.index, data=lsa, columns=topics), \\\n",
    "           pd.DataFrame(index=topics, data=svd.components_, columns=dictionary).T"
   ]
  },
  {
   "cell_type": "code",
   "execution_count": 18,
   "id": "29934767",
   "metadata": {},
   "outputs": [],
   "source": [
    "def n_most_significant(topic, n_terms, encoding_matrix):\n",
    "    df = encoding_matrix[topic]\n",
    "    return df.iloc[df.abs().argsort()][::-1][:n_terms].to_frame()"
   ]
  },
  {
   "cell_type": "code",
   "execution_count": 19,
   "id": "68d9e97f",
   "metadata": {},
   "outputs": [],
   "source": [
    "# the caller is expected to select the right column from their data frame and\n",
    "# pass it in as a series.\n",
    "def compose_document_term_matrix(series, min_df=1, sublinear_tf=False):\n",
    "    vectorizer = TfidfVectorizer(min_df=min_df, sublinear_tf=sublinear_tf)\n",
    "    dt_matrix  = vectorizer.fit_transform(series)\n",
    "    dictionary = vectorizer.get_feature_names_out()\n",
    "\n",
    "    return pd.DataFrame(index=series.index, columns=dictionary, data=dt_matrix.toarray()), \\\n",
    "           dictionary"
   ]
  },
  {
   "cell_type": "code",
   "execution_count": 20,
   "id": "b2315cf7",
   "metadata": {
    "scrolled": true
   },
   "outputs": [
    {
     "data": {
      "text/html": [
       "<div>\n",
       "<style scoped>\n",
       "    .dataframe tbody tr th:only-of-type {\n",
       "        vertical-align: middle;\n",
       "    }\n",
       "\n",
       "    .dataframe tbody tr th {\n",
       "        vertical-align: top;\n",
       "    }\n",
       "\n",
       "    .dataframe thead th {\n",
       "        text-align: right;\n",
       "    }\n",
       "</style>\n",
       "<table border=\"1\" class=\"dataframe\">\n",
       "  <thead>\n",
       "    <tr style=\"text-align: right;\">\n",
       "      <th></th>\n",
       "      <th>body</th>\n",
       "    </tr>\n",
       "  </thead>\n",
       "  <tbody>\n",
       "    <tr>\n",
       "      <th>GM0003DV02</th>\n",
       "      <td>duurzaamheidsbeleid Appingedam duurzaamheidsbe...</td>\n",
       "    </tr>\n",
       "    <tr>\n",
       "      <th>GM0005DV01</th>\n",
       "      <td>colofon gemeente bedum bezoekadres Schoolstraa...</td>\n",
       "    </tr>\n",
       "    <tr>\n",
       "      <th>GM0007DV01</th>\n",
       "      <td>Milieubeleidsplan vaststellen gemeenteraad bel...</td>\n",
       "    </tr>\n",
       "    <tr>\n",
       "      <th>GM0009DV01</th>\n",
       "      <td>inhoud duurzaamheidsvisie februari inhoud inho...</td>\n",
       "    </tr>\n",
       "    <tr>\n",
       "      <th>GM0034DV01</th>\n",
       "      <td>verseonnr dagmail december raad gemeente almer...</td>\n",
       "    </tr>\n",
       "    <tr>\n",
       "      <th>...</th>\n",
       "      <td>...</td>\n",
       "    </tr>\n",
       "    <tr>\n",
       "      <th>GM1945DV01</th>\n",
       "      <td>duurzaamheidsprogramma gemeente groesbeek duur...</td>\n",
       "    </tr>\n",
       "    <tr>\n",
       "      <th>GM1955DV01</th>\n",
       "      <td>milieuprogramma gemeente Montferland vaststell...</td>\n",
       "    </tr>\n",
       "    <tr>\n",
       "      <th>GM1955DV02</th>\n",
       "      <td>notitie ruimtelijk inpassing stroomopwekking z...</td>\n",
       "    </tr>\n",
       "    <tr>\n",
       "      <th>GM1955DV03</th>\n",
       "      <td>energietransitienota duurzaam energie achterho...</td>\n",
       "    </tr>\n",
       "    <tr>\n",
       "      <th>GM1987DV01</th>\n",
       "      <td>milieu uitvoeringsprogramma milieu uitvoerings...</td>\n",
       "    </tr>\n",
       "  </tbody>\n",
       "</table>\n",
       "<p>253 rows × 1 columns</p>\n",
       "</div>"
      ],
      "text/plain": [
       "                                                         body\n",
       "GM0003DV02  duurzaamheidsbeleid Appingedam duurzaamheidsbe...\n",
       "GM0005DV01  colofon gemeente bedum bezoekadres Schoolstraa...\n",
       "GM0007DV01  Milieubeleidsplan vaststellen gemeenteraad bel...\n",
       "GM0009DV01  inhoud duurzaamheidsvisie februari inhoud inho...\n",
       "GM0034DV01  verseonnr dagmail december raad gemeente almer...\n",
       "...                                                       ...\n",
       "GM1945DV01  duurzaamheidsprogramma gemeente groesbeek duur...\n",
       "GM1955DV01  milieuprogramma gemeente Montferland vaststell...\n",
       "GM1955DV02  notitie ruimtelijk inpassing stroomopwekking z...\n",
       "GM1955DV03  energietransitienota duurzaam energie achterho...\n",
       "GM1987DV01  milieu uitvoeringsprogramma milieu uitvoerings...\n",
       "\n",
       "[253 rows x 1 columns]"
      ]
     },
     "execution_count": 20,
     "metadata": {},
     "output_type": "execute_result"
    }
   ],
   "source": [
    "corpus = load_corpus_as_dataframe(GLOB_DV)\n",
    "corpus\n"
   ]
  },
  {
   "cell_type": "code",
   "execution_count": 21,
   "id": "9f57026e",
   "metadata": {},
   "outputs": [
    {
     "data": {
      "text/html": [
       "<div>\n",
       "<style scoped>\n",
       "    .dataframe tbody tr th:only-of-type {\n",
       "        vertical-align: middle;\n",
       "    }\n",
       "\n",
       "    .dataframe tbody tr th {\n",
       "        vertical-align: top;\n",
       "    }\n",
       "\n",
       "    .dataframe thead th {\n",
       "        text-align: right;\n",
       "    }\n",
       "</style>\n",
       "<table border=\"1\" class=\"dataframe\">\n",
       "  <thead>\n",
       "    <tr style=\"text-align: right;\">\n",
       "      <th></th>\n",
       "      <th>aanbested</th>\n",
       "      <th>aanbesteding</th>\n",
       "      <th>aanbestedingen</th>\n",
       "      <th>aanbestedingsbeleid</th>\n",
       "      <th>aanbeveling</th>\n",
       "      <th>aanbieden</th>\n",
       "      <th>aanbieder</th>\n",
       "      <th>aanbod</th>\n",
       "      <th>aanbrengen</th>\n",
       "      <th>aandacht</th>\n",
       "      <th>...</th>\n",
       "      <th>zowel</th>\n",
       "      <th>zuid</th>\n",
       "      <th>zuinig</th>\n",
       "      <th>zuiveren</th>\n",
       "      <th>zuivering</th>\n",
       "      <th>zullen</th>\n",
       "      <th>zwaar</th>\n",
       "      <th>zwembad</th>\n",
       "      <th>zwerfafval</th>\n",
       "      <th>zwerfvuil</th>\n",
       "    </tr>\n",
       "  </thead>\n",
       "  <tbody>\n",
       "    <tr>\n",
       "      <th>GM0003DV02</th>\n",
       "      <td>0.000000</td>\n",
       "      <td>0.012151</td>\n",
       "      <td>0.000000</td>\n",
       "      <td>0.000000</td>\n",
       "      <td>0.038262</td>\n",
       "      <td>0.030048</td>\n",
       "      <td>0.0</td>\n",
       "      <td>0.012372</td>\n",
       "      <td>0.000000</td>\n",
       "      <td>0.030826</td>\n",
       "      <td>...</td>\n",
       "      <td>0.028764</td>\n",
       "      <td>0.015025</td>\n",
       "      <td>0.032728</td>\n",
       "      <td>0.000000</td>\n",
       "      <td>0.000000</td>\n",
       "      <td>0.038097</td>\n",
       "      <td>0.000000</td>\n",
       "      <td>0.000000</td>\n",
       "      <td>0.000000</td>\n",
       "      <td>0.000000</td>\n",
       "    </tr>\n",
       "    <tr>\n",
       "      <th>GM0005DV01</th>\n",
       "      <td>0.000000</td>\n",
       "      <td>0.014400</td>\n",
       "      <td>0.000000</td>\n",
       "      <td>0.000000</td>\n",
       "      <td>0.000000</td>\n",
       "      <td>0.012755</td>\n",
       "      <td>0.0</td>\n",
       "      <td>0.000000</td>\n",
       "      <td>0.018388</td>\n",
       "      <td>0.038480</td>\n",
       "      <td>...</td>\n",
       "      <td>0.026933</td>\n",
       "      <td>0.000000</td>\n",
       "      <td>0.025166</td>\n",
       "      <td>0.000000</td>\n",
       "      <td>0.000000</td>\n",
       "      <td>0.032584</td>\n",
       "      <td>0.000000</td>\n",
       "      <td>0.000000</td>\n",
       "      <td>0.091489</td>\n",
       "      <td>0.000000</td>\n",
       "    </tr>\n",
       "    <tr>\n",
       "      <th>GM0007DV01</th>\n",
       "      <td>0.000000</td>\n",
       "      <td>0.000000</td>\n",
       "      <td>0.000000</td>\n",
       "      <td>0.000000</td>\n",
       "      <td>0.000000</td>\n",
       "      <td>0.017514</td>\n",
       "      <td>0.0</td>\n",
       "      <td>0.000000</td>\n",
       "      <td>0.000000</td>\n",
       "      <td>0.017085</td>\n",
       "      <td>...</td>\n",
       "      <td>0.033016</td>\n",
       "      <td>0.000000</td>\n",
       "      <td>0.000000</td>\n",
       "      <td>0.000000</td>\n",
       "      <td>0.000000</td>\n",
       "      <td>0.037543</td>\n",
       "      <td>0.015504</td>\n",
       "      <td>0.000000</td>\n",
       "      <td>0.037267</td>\n",
       "      <td>0.049227</td>\n",
       "    </tr>\n",
       "    <tr>\n",
       "      <th>GM0009DV01</th>\n",
       "      <td>0.000000</td>\n",
       "      <td>0.000000</td>\n",
       "      <td>0.000000</td>\n",
       "      <td>0.000000</td>\n",
       "      <td>0.000000</td>\n",
       "      <td>0.017749</td>\n",
       "      <td>0.0</td>\n",
       "      <td>0.034544</td>\n",
       "      <td>0.000000</td>\n",
       "      <td>0.033334</td>\n",
       "      <td>...</td>\n",
       "      <td>0.024318</td>\n",
       "      <td>0.000000</td>\n",
       "      <td>0.000000</td>\n",
       "      <td>0.000000</td>\n",
       "      <td>0.000000</td>\n",
       "      <td>0.042969</td>\n",
       "      <td>0.000000</td>\n",
       "      <td>0.032475</td>\n",
       "      <td>0.000000</td>\n",
       "      <td>0.000000</td>\n",
       "    </tr>\n",
       "    <tr>\n",
       "      <th>GM0034DV01</th>\n",
       "      <td>0.000000</td>\n",
       "      <td>0.015250</td>\n",
       "      <td>0.028229</td>\n",
       "      <td>0.000000</td>\n",
       "      <td>0.000000</td>\n",
       "      <td>0.013507</td>\n",
       "      <td>0.0</td>\n",
       "      <td>0.000000</td>\n",
       "      <td>0.000000</td>\n",
       "      <td>0.010631</td>\n",
       "      <td>...</td>\n",
       "      <td>0.030515</td>\n",
       "      <td>0.000000</td>\n",
       "      <td>0.015740</td>\n",
       "      <td>0.000000</td>\n",
       "      <td>0.031714</td>\n",
       "      <td>0.042896</td>\n",
       "      <td>0.034280</td>\n",
       "      <td>0.000000</td>\n",
       "      <td>0.000000</td>\n",
       "      <td>0.000000</td>\n",
       "    </tr>\n",
       "    <tr>\n",
       "      <th>...</th>\n",
       "      <td>...</td>\n",
       "      <td>...</td>\n",
       "      <td>...</td>\n",
       "      <td>...</td>\n",
       "      <td>...</td>\n",
       "      <td>...</td>\n",
       "      <td>...</td>\n",
       "      <td>...</td>\n",
       "      <td>...</td>\n",
       "      <td>...</td>\n",
       "      <td>...</td>\n",
       "      <td>...</td>\n",
       "      <td>...</td>\n",
       "      <td>...</td>\n",
       "      <td>...</td>\n",
       "      <td>...</td>\n",
       "      <td>...</td>\n",
       "      <td>...</td>\n",
       "      <td>...</td>\n",
       "      <td>...</td>\n",
       "      <td>...</td>\n",
       "    </tr>\n",
       "    <tr>\n",
       "      <th>GM1945DV01</th>\n",
       "      <td>0.000000</td>\n",
       "      <td>0.022839</td>\n",
       "      <td>0.017717</td>\n",
       "      <td>0.026661</td>\n",
       "      <td>0.000000</td>\n",
       "      <td>0.014353</td>\n",
       "      <td>0.0</td>\n",
       "      <td>0.000000</td>\n",
       "      <td>0.012221</td>\n",
       "      <td>0.015922</td>\n",
       "      <td>...</td>\n",
       "      <td>0.020209</td>\n",
       "      <td>0.000000</td>\n",
       "      <td>0.016726</td>\n",
       "      <td>0.033302</td>\n",
       "      <td>0.000000</td>\n",
       "      <td>0.023821</td>\n",
       "      <td>0.021514</td>\n",
       "      <td>0.000000</td>\n",
       "      <td>0.000000</td>\n",
       "      <td>0.000000</td>\n",
       "    </tr>\n",
       "    <tr>\n",
       "      <th>GM1955DV01</th>\n",
       "      <td>0.000000</td>\n",
       "      <td>0.000000</td>\n",
       "      <td>0.000000</td>\n",
       "      <td>0.000000</td>\n",
       "      <td>0.000000</td>\n",
       "      <td>0.022764</td>\n",
       "      <td>0.0</td>\n",
       "      <td>0.015455</td>\n",
       "      <td>0.000000</td>\n",
       "      <td>0.027612</td>\n",
       "      <td>...</td>\n",
       "      <td>0.018421</td>\n",
       "      <td>0.000000</td>\n",
       "      <td>0.000000</td>\n",
       "      <td>0.000000</td>\n",
       "      <td>0.000000</td>\n",
       "      <td>0.035866</td>\n",
       "      <td>0.048089</td>\n",
       "      <td>0.000000</td>\n",
       "      <td>0.000000</td>\n",
       "      <td>0.000000</td>\n",
       "    </tr>\n",
       "    <tr>\n",
       "      <th>GM1955DV02</th>\n",
       "      <td>0.000000</td>\n",
       "      <td>0.000000</td>\n",
       "      <td>0.000000</td>\n",
       "      <td>0.000000</td>\n",
       "      <td>0.000000</td>\n",
       "      <td>0.000000</td>\n",
       "      <td>0.0</td>\n",
       "      <td>0.024765</td>\n",
       "      <td>0.000000</td>\n",
       "      <td>0.000000</td>\n",
       "      <td>...</td>\n",
       "      <td>0.017434</td>\n",
       "      <td>0.000000</td>\n",
       "      <td>0.025105</td>\n",
       "      <td>0.000000</td>\n",
       "      <td>0.000000</td>\n",
       "      <td>0.026740</td>\n",
       "      <td>0.000000</td>\n",
       "      <td>0.000000</td>\n",
       "      <td>0.000000</td>\n",
       "      <td>0.000000</td>\n",
       "    </tr>\n",
       "    <tr>\n",
       "      <th>GM1955DV03</th>\n",
       "      <td>0.000000</td>\n",
       "      <td>0.000000</td>\n",
       "      <td>0.000000</td>\n",
       "      <td>0.000000</td>\n",
       "      <td>0.081858</td>\n",
       "      <td>0.013279</td>\n",
       "      <td>0.0</td>\n",
       "      <td>0.015264</td>\n",
       "      <td>0.000000</td>\n",
       "      <td>0.027272</td>\n",
       "      <td>...</td>\n",
       "      <td>0.029999</td>\n",
       "      <td>0.000000</td>\n",
       "      <td>0.000000</td>\n",
       "      <td>0.000000</td>\n",
       "      <td>0.000000</td>\n",
       "      <td>0.025401</td>\n",
       "      <td>0.000000</td>\n",
       "      <td>0.000000</td>\n",
       "      <td>0.000000</td>\n",
       "      <td>0.000000</td>\n",
       "    </tr>\n",
       "    <tr>\n",
       "      <th>GM1987DV01</th>\n",
       "      <td>0.020151</td>\n",
       "      <td>0.012526</td>\n",
       "      <td>0.000000</td>\n",
       "      <td>0.034893</td>\n",
       "      <td>0.018794</td>\n",
       "      <td>0.000000</td>\n",
       "      <td>0.0</td>\n",
       "      <td>0.012754</td>\n",
       "      <td>0.015994</td>\n",
       "      <td>0.025724</td>\n",
       "      <td>...</td>\n",
       "      <td>0.031288</td>\n",
       "      <td>0.015488</td>\n",
       "      <td>0.027132</td>\n",
       "      <td>0.000000</td>\n",
       "      <td>0.044106</td>\n",
       "      <td>0.038910</td>\n",
       "      <td>0.000000</td>\n",
       "      <td>0.000000</td>\n",
       "      <td>0.019048</td>\n",
       "      <td>0.000000</td>\n",
       "    </tr>\n",
       "  </tbody>\n",
       "</table>\n",
       "<p>253 rows × 3694 columns</p>\n",
       "</div>"
      ],
      "text/plain": [
       "            aanbested  aanbesteding  aanbestedingen  aanbestedingsbeleid  \\\n",
       "GM0003DV02   0.000000      0.012151        0.000000             0.000000   \n",
       "GM0005DV01   0.000000      0.014400        0.000000             0.000000   \n",
       "GM0007DV01   0.000000      0.000000        0.000000             0.000000   \n",
       "GM0009DV01   0.000000      0.000000        0.000000             0.000000   \n",
       "GM0034DV01   0.000000      0.015250        0.028229             0.000000   \n",
       "...               ...           ...             ...                  ...   \n",
       "GM1945DV01   0.000000      0.022839        0.017717             0.026661   \n",
       "GM1955DV01   0.000000      0.000000        0.000000             0.000000   \n",
       "GM1955DV02   0.000000      0.000000        0.000000             0.000000   \n",
       "GM1955DV03   0.000000      0.000000        0.000000             0.000000   \n",
       "GM1987DV01   0.020151      0.012526        0.000000             0.034893   \n",
       "\n",
       "            aanbeveling  aanbieden  aanbieder    aanbod  aanbrengen  aandacht  \\\n",
       "GM0003DV02     0.038262   0.030048        0.0  0.012372    0.000000  0.030826   \n",
       "GM0005DV01     0.000000   0.012755        0.0  0.000000    0.018388  0.038480   \n",
       "GM0007DV01     0.000000   0.017514        0.0  0.000000    0.000000  0.017085   \n",
       "GM0009DV01     0.000000   0.017749        0.0  0.034544    0.000000  0.033334   \n",
       "GM0034DV01     0.000000   0.013507        0.0  0.000000    0.000000  0.010631   \n",
       "...                 ...        ...        ...       ...         ...       ...   \n",
       "GM1945DV01     0.000000   0.014353        0.0  0.000000    0.012221  0.015922   \n",
       "GM1955DV01     0.000000   0.022764        0.0  0.015455    0.000000  0.027612   \n",
       "GM1955DV02     0.000000   0.000000        0.0  0.024765    0.000000  0.000000   \n",
       "GM1955DV03     0.081858   0.013279        0.0  0.015264    0.000000  0.027272   \n",
       "GM1987DV01     0.018794   0.000000        0.0  0.012754    0.015994  0.025724   \n",
       "\n",
       "            ...     zowel      zuid    zuinig  zuiveren  zuivering    zullen  \\\n",
       "GM0003DV02  ...  0.028764  0.015025  0.032728  0.000000   0.000000  0.038097   \n",
       "GM0005DV01  ...  0.026933  0.000000  0.025166  0.000000   0.000000  0.032584   \n",
       "GM0007DV01  ...  0.033016  0.000000  0.000000  0.000000   0.000000  0.037543   \n",
       "GM0009DV01  ...  0.024318  0.000000  0.000000  0.000000   0.000000  0.042969   \n",
       "GM0034DV01  ...  0.030515  0.000000  0.015740  0.000000   0.031714  0.042896   \n",
       "...         ...       ...       ...       ...       ...        ...       ...   \n",
       "GM1945DV01  ...  0.020209  0.000000  0.016726  0.033302   0.000000  0.023821   \n",
       "GM1955DV01  ...  0.018421  0.000000  0.000000  0.000000   0.000000  0.035866   \n",
       "GM1955DV02  ...  0.017434  0.000000  0.025105  0.000000   0.000000  0.026740   \n",
       "GM1955DV03  ...  0.029999  0.000000  0.000000  0.000000   0.000000  0.025401   \n",
       "GM1987DV01  ...  0.031288  0.015488  0.027132  0.000000   0.044106  0.038910   \n",
       "\n",
       "               zwaar   zwembad  zwerfafval  zwerfvuil  \n",
       "GM0003DV02  0.000000  0.000000    0.000000   0.000000  \n",
       "GM0005DV01  0.000000  0.000000    0.091489   0.000000  \n",
       "GM0007DV01  0.015504  0.000000    0.037267   0.049227  \n",
       "GM0009DV01  0.000000  0.032475    0.000000   0.000000  \n",
       "GM0034DV01  0.034280  0.000000    0.000000   0.000000  \n",
       "...              ...       ...         ...        ...  \n",
       "GM1945DV01  0.021514  0.000000    0.000000   0.000000  \n",
       "GM1955DV01  0.048089  0.000000    0.000000   0.000000  \n",
       "GM1955DV02  0.000000  0.000000    0.000000   0.000000  \n",
       "GM1955DV03  0.000000  0.000000    0.000000   0.000000  \n",
       "GM1987DV01  0.000000  0.000000    0.019048   0.000000  \n",
       "\n",
       "[253 rows x 3694 columns]"
      ]
     },
     "execution_count": 21,
     "metadata": {},
     "output_type": "execute_result"
    }
   ],
   "source": [
    "document_term_matrix, dictionary = compose_document_term_matrix(corpus[DOCUMENT_BODY], min_df=20, sublinear_tf=True)\n",
    "document_term_matrix"
   ]
  },
  {
   "cell_type": "markdown",
   "id": "e1ddbd88",
   "metadata": {},
   "source": [
    "### LSA toepassen"
   ]
  },
  {
   "cell_type": "code",
   "execution_count": 22,
   "id": "b4e13161",
   "metadata": {
    "scrolled": true
   },
   "outputs": [
    {
     "name": "stdout",
     "output_type": "stream",
     "text": [
      "[[ 0.64608376 -0.07211456 -0.00099174  0.0234379  -0.10006828]\n",
      " [ 0.59064041  0.34283449 -0.09030164 -0.02725863 -0.0365909 ]\n",
      " [ 0.61731198  0.35027342  0.02321471 -0.03559627 -0.11302448]\n",
      " ...\n",
      " [ 0.50753801 -0.11123217  0.02556949  0.01337783 -0.01929243]\n",
      " [ 0.58385282 -0.08920063 -0.12447991  0.07859924  0.02764867]\n",
      " [ 0.60336337  0.36505892 -0.15219437 -0.0852914   0.00146803]]\n"
     ]
    }
   ],
   "source": [
    "lsa = TruncatedSVD(n_components=5)\n",
    "lsa_matrix = lsa.fit_transform(document_term_matrix)\n",
    "print(lsa_matrix)"
   ]
  },
  {
   "cell_type": "code",
   "execution_count": 23,
   "id": "ca8f3554",
   "metadata": {},
   "outputs": [
    {
     "ename": "ValueError",
     "evalue": "Shape of passed values is (5, 3694), indices imply (5, 253)",
     "output_type": "error",
     "traceback": [
      "\u001b[1;31m---------------------------------------------------------------------------\u001b[0m",
      "\u001b[1;31mValueError\u001b[0m                                Traceback (most recent call last)",
      "\u001b[1;32m~\\AppData\\Local\\Temp\\ipykernel_10648\\559682714.py\u001b[0m in \u001b[0;36m<module>\u001b[1;34m\u001b[0m\n\u001b[1;32m----> 1\u001b[1;33m \u001b[0mprint\u001b[0m\u001b[1;33m(\u001b[0m\u001b[0mperform_lsa\u001b[0m\u001b[1;33m(\u001b[0m\u001b[0mdocument_term_matrix\u001b[0m\u001b[1;33m,\u001b[0m \u001b[0mcorpus\u001b[0m \u001b[1;33m,\u001b[0m\u001b[0mn_components\u001b[0m\u001b[1;33m=\u001b[0m\u001b[1;36m5\u001b[0m\u001b[1;33m)\u001b[0m\u001b[1;33m)\u001b[0m\u001b[1;33m\u001b[0m\u001b[1;33m\u001b[0m\u001b[0m\n\u001b[0m",
      "\u001b[1;32m~\\AppData\\Local\\Temp\\ipykernel_10648\\15341057.py\u001b[0m in \u001b[0;36mperform_lsa\u001b[1;34m(dt_matrix, dictionary, n_components)\u001b[0m\n\u001b[0;32m      5\u001b[0m \u001b[1;33m\u001b[0m\u001b[0m\n\u001b[0;32m      6\u001b[0m     \u001b[1;32mreturn\u001b[0m \u001b[0mpd\u001b[0m\u001b[1;33m.\u001b[0m\u001b[0mDataFrame\u001b[0m\u001b[1;33m(\u001b[0m\u001b[0mindex\u001b[0m\u001b[1;33m=\u001b[0m\u001b[0mdt_matrix\u001b[0m\u001b[1;33m.\u001b[0m\u001b[0mindex\u001b[0m\u001b[1;33m,\u001b[0m \u001b[0mdata\u001b[0m\u001b[1;33m=\u001b[0m\u001b[0mlsa\u001b[0m\u001b[1;33m,\u001b[0m \u001b[0mcolumns\u001b[0m\u001b[1;33m=\u001b[0m\u001b[0mtopics\u001b[0m\u001b[1;33m)\u001b[0m\u001b[1;33m,\u001b[0m\u001b[0;31m \u001b[0m\u001b[0;31m\\\u001b[0m\u001b[1;33m\u001b[0m\u001b[1;33m\u001b[0m\u001b[0m\n\u001b[1;32m----> 7\u001b[1;33m            \u001b[0mpd\u001b[0m\u001b[1;33m.\u001b[0m\u001b[0mDataFrame\u001b[0m\u001b[1;33m(\u001b[0m\u001b[0mindex\u001b[0m\u001b[1;33m=\u001b[0m\u001b[0mtopics\u001b[0m\u001b[1;33m,\u001b[0m \u001b[0mdata\u001b[0m\u001b[1;33m=\u001b[0m\u001b[0msvd\u001b[0m\u001b[1;33m.\u001b[0m\u001b[0mcomponents_\u001b[0m\u001b[1;33m,\u001b[0m \u001b[0mcolumns\u001b[0m\u001b[1;33m=\u001b[0m\u001b[0mdictionary\u001b[0m\u001b[1;33m)\u001b[0m\u001b[1;33m.\u001b[0m\u001b[0mT\u001b[0m\u001b[1;33m\u001b[0m\u001b[1;33m\u001b[0m\u001b[0m\n\u001b[0m",
      "\u001b[1;32m~\\anaconda3\\lib\\site-packages\\pandas\\core\\frame.py\u001b[0m in \u001b[0;36m__init__\u001b[1;34m(self, data, index, columns, dtype, copy)\u001b[0m\n\u001b[0;32m    692\u001b[0m                 )\n\u001b[0;32m    693\u001b[0m             \u001b[1;32melse\u001b[0m\u001b[1;33m:\u001b[0m\u001b[1;33m\u001b[0m\u001b[1;33m\u001b[0m\u001b[0m\n\u001b[1;32m--> 694\u001b[1;33m                 mgr = ndarray_to_mgr(\n\u001b[0m\u001b[0;32m    695\u001b[0m                     \u001b[0mdata\u001b[0m\u001b[1;33m,\u001b[0m\u001b[1;33m\u001b[0m\u001b[1;33m\u001b[0m\u001b[0m\n\u001b[0;32m    696\u001b[0m                     \u001b[0mindex\u001b[0m\u001b[1;33m,\u001b[0m\u001b[1;33m\u001b[0m\u001b[1;33m\u001b[0m\u001b[0m\n",
      "\u001b[1;32m~\\anaconda3\\lib\\site-packages\\pandas\\core\\internals\\construction.py\u001b[0m in \u001b[0;36mndarray_to_mgr\u001b[1;34m(values, index, columns, dtype, copy, typ)\u001b[0m\n\u001b[0;32m    349\u001b[0m     )\n\u001b[0;32m    350\u001b[0m \u001b[1;33m\u001b[0m\u001b[0m\n\u001b[1;32m--> 351\u001b[1;33m     \u001b[0m_check_values_indices_shape_match\u001b[0m\u001b[1;33m(\u001b[0m\u001b[0mvalues\u001b[0m\u001b[1;33m,\u001b[0m \u001b[0mindex\u001b[0m\u001b[1;33m,\u001b[0m \u001b[0mcolumns\u001b[0m\u001b[1;33m)\u001b[0m\u001b[1;33m\u001b[0m\u001b[1;33m\u001b[0m\u001b[0m\n\u001b[0m\u001b[0;32m    352\u001b[0m \u001b[1;33m\u001b[0m\u001b[0m\n\u001b[0;32m    353\u001b[0m     \u001b[1;32mif\u001b[0m \u001b[0mtyp\u001b[0m \u001b[1;33m==\u001b[0m \u001b[1;34m\"array\"\u001b[0m\u001b[1;33m:\u001b[0m\u001b[1;33m\u001b[0m\u001b[1;33m\u001b[0m\u001b[0m\n",
      "\u001b[1;32m~\\anaconda3\\lib\\site-packages\\pandas\\core\\internals\\construction.py\u001b[0m in \u001b[0;36m_check_values_indices_shape_match\u001b[1;34m(values, index, columns)\u001b[0m\n\u001b[0;32m    420\u001b[0m         \u001b[0mpassed\u001b[0m \u001b[1;33m=\u001b[0m \u001b[0mvalues\u001b[0m\u001b[1;33m.\u001b[0m\u001b[0mshape\u001b[0m\u001b[1;33m\u001b[0m\u001b[1;33m\u001b[0m\u001b[0m\n\u001b[0;32m    421\u001b[0m         \u001b[0mimplied\u001b[0m \u001b[1;33m=\u001b[0m \u001b[1;33m(\u001b[0m\u001b[0mlen\u001b[0m\u001b[1;33m(\u001b[0m\u001b[0mindex\u001b[0m\u001b[1;33m)\u001b[0m\u001b[1;33m,\u001b[0m \u001b[0mlen\u001b[0m\u001b[1;33m(\u001b[0m\u001b[0mcolumns\u001b[0m\u001b[1;33m)\u001b[0m\u001b[1;33m)\u001b[0m\u001b[1;33m\u001b[0m\u001b[1;33m\u001b[0m\u001b[0m\n\u001b[1;32m--> 422\u001b[1;33m         \u001b[1;32mraise\u001b[0m \u001b[0mValueError\u001b[0m\u001b[1;33m(\u001b[0m\u001b[1;34mf\"Shape of passed values is {passed}, indices imply {implied}\"\u001b[0m\u001b[1;33m)\u001b[0m\u001b[1;33m\u001b[0m\u001b[1;33m\u001b[0m\u001b[0m\n\u001b[0m\u001b[0;32m    423\u001b[0m \u001b[1;33m\u001b[0m\u001b[0m\n\u001b[0;32m    424\u001b[0m \u001b[1;33m\u001b[0m\u001b[0m\n",
      "\u001b[1;31mValueError\u001b[0m: Shape of passed values is (5, 3694), indices imply (5, 253)"
     ]
    }
   ],
   "source": [
    "print(perform_lsa(document_term_matrix, corpus ,n_components=5))"
   ]
  },
  {
   "cell_type": "markdown",
   "id": "b8708654",
   "metadata": {},
   "source": [
    "### Training the model\n",
    "\n",
    "Bronnen: \n",
    "https://medium.com/@rohithramesh1991/unsupervised-text-clustering-using-natural-language-processing-nlp-1a8bc18b048d\n",
    "https://campus.datacamp.com/courses/cluster-analysis-in-python/k-means-clustering-3?ex=1"
   ]
  },
  {
   "cell_type": "code",
   "execution_count": 24,
   "id": "baef7d72",
   "metadata": {},
   "outputs": [
    {
     "data": {
      "text/plain": [
       "KMeans(n_clusters=5, n_init=100)"
      ]
     },
     "execution_count": 24,
     "metadata": {},
     "output_type": "execute_result"
    }
   ],
   "source": [
    "modelkmeans = KMeans(n_clusters= 5, init=\"k-means++\", n_init=100)\n",
    "modelkmeans.fit(lsa_matrix)"
   ]
  },
  {
   "cell_type": "code",
   "execution_count": 35,
   "id": "891e116e",
   "metadata": {},
   "outputs": [
    {
     "name": "stderr",
     "output_type": "stream",
     "text": [
      "C:\\Users\\jurri\\anaconda3\\lib\\site-packages\\sklearn\\cluster\\_kmeans.py:1036: UserWarning: KMeans is known to have a memory leak on Windows with MKL, when there are less chunks than available threads. You can avoid it by setting the environment variable OMP_NUM_THREADS=1.\n",
      "  warnings.warn(\n"
     ]
    }
   ],
   "source": [
    "Sum_of_squared_distances = []\n",
    "K = range(1,100)\n",
    "for k in K:\n",
    "    km = KMeans(n_clusters=k)\n",
    "    km = km.fit(lsa_matrix) # I think we need to use the document_term_matrix for this calculation (before LSA).\n",
    "    Sum_of_squared_distances.append(km.inertia_)"
   ]
  },
  {
   "cell_type": "code",
   "execution_count": 36,
   "id": "e5f35dc2",
   "metadata": {},
   "outputs": [
    {
     "data": {
      "image/png": "[encoded data removed]",
      "text/plain": [
       "<Figure size 640x480 with 1 Axes>"
      ]
     },
     "metadata": {},
     "output_type": "display_data"
    }
   ],
   "source": [
    "plt.plot(K, Sum_of_squared_distances, 'bx-')\n",
    "plt.xlabel('k')\n",
    "plt.ylabel('Sum_of_squared_distances')\n",
    "plt.title('Elbow method for Optimal k')\n",
    "plt.show()"
   ]
  },
  {
   "cell_type": "code",
   "execution_count": 37,
   "id": "e3877521",
   "metadata": {},
   "outputs": [
    {
     "data": {
      "image/png": "[encoded data removed]",
      "text/plain": [
       "<Figure size 640x480 with 1 Axes>"
      ]
     },
     "metadata": {},
     "output_type": "display_data"
    }
   ],
   "source": [
    "plt.plot(K, Sum_of_squared_distances, 'bx-')\n",
    "plt.xlabel('k')\n",
    "plt.ylabel('Sum_of_squared_distances')\n",
    "plt.title('Elbow method for Optimal k')\n",
    "plt.xlim(1, 30)\n",
    "plt.show()"
   ]
  },
  {
   "cell_type": "markdown",
   "id": "02a46249",
   "metadata": {},
   "source": [
    "### Making sense of the clusters"
   ]
  },
  {
   "cell_type": "code",
   "execution_count": 39,
   "id": "7bbfbd38",
   "metadata": {
    "scrolled": true
   },
   "outputs": [
    {
     "data": {
      "image/png": "[encoded data removed]",
      "text/plain": [
       "<Figure size 640x480 with 1 Axes>"
      ]
     },
     "metadata": {},
     "output_type": "display_data"
    }
   ],
   "source": [
    "# K-means clustering met k=5\n",
    "kmeans = KMeans(n_clusters=5)\n",
    "kmeans.fit(lsa_matrix)\n",
    "\n",
    "# Clusterlabels verkrijgen\n",
    "labels = kmeans.labels_\n",
    "\n",
    "# Centroids verkrijgen\n",
    "centroids = kmeans.cluster_centers_\n",
    "\n",
    "# Scatter plot van de clustering\n",
    "plt.scatter(lsa_matrix[:, 0], lsa_matrix[:, 1], c=labels)\n",
    "plt.scatter(centroids[:, 0], centroids[:, 4], marker='X', color='red', label='Centroids')\n",
    "plt.xlabel('X')\n",
    "plt.ylabel('Y')\n",
    "plt.title('K-means Clustering')\n",
    "plt.legend()\n",
    "plt.show()"
   ]
  },
  {
   "cell_type": "markdown",
   "id": "71000890",
   "metadata": {},
   "source": [
    "###  Silhouette score \n",
    "The silhouette_score is a metric provided by scikit-learn that measures the quality of clustering results based on the average distance between samples within clusters and the average distance between samples in different clusters. It takes into account both the cohesion (how close samples are to each other within the same cluster) and the separation (how far samples are from samples in other clusters). The range is from -1 to 1.\n",
    "\n",
    "https://scikit-learn.org/stable/modules/generated/sklearn.metrics.silhouette_score.html"
   ]
  },
  {
   "cell_type": "code",
   "execution_count": 40,
   "id": "eebcf80d",
   "metadata": {},
   "outputs": [
    {
     "name": "stdout",
     "output_type": "stream",
     "text": [
      "Silhouette Score: 0.014460416364717794\n"
     ]
    }
   ],
   "source": [
    "silhouette_avg = silhouette_score(document_term_matrix, labels)\n",
    "print(\"Silhouette Score:\", silhouette_avg)"
   ]
  },
  {
   "cell_type": "markdown",
   "id": "2dd7eb2b",
   "metadata": {},
   "source": [
    "The score is close to 0 this indicates that the clusters are overlapping or ambiguous."
   ]
  }
 ],
 "metadata": {
  "kernelspec": {
   "display_name": "Python 3 (ipykernel)",
   "language": "python",
   "name": "python3"
  },
  "language_info": {
   "codemirror_mode": {
    "name": "ipython",
    "version": 3
   },
   "file_extension": ".py",
   "mimetype": "text/x-python",
   "name": "python",
   "nbconvert_exporter": "python",
   "pygments_lexer": "ipython3",
   "version": "3.9.13"
  }
 },
 "nbformat": 4,
 "nbformat_minor": 5
}
