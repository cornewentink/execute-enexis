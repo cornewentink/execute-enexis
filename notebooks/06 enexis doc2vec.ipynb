{
 "cells": [
  {
   "cell_type": "markdown",
   "id": "084a7a75-f06c-43a2-b3ff-c1d01841a0a9",
   "metadata": {},
   "source": [
    "https://github.com/aniketbote/Document-Clustering-Doc2vec/blob/master/Clustering/Clustering_code_Doc2Vec/clustering_Documents_Doc2Vec.py"
   ]
  },
  {
   "cell_type": "markdown",
   "id": "09002b9f-6df3-40f4-9060-605690d95f82",
   "metadata": {},
   "source": [
    "---\n",
    "## Dependencies and Imports"
   ]
  },
  {
   "cell_type": "code",
   "execution_count": 1,
   "id": "1d2b5887-4010-4ab7-af18-6183981285b4",
   "metadata": {},
   "outputs": [
    {
     "name": "stdout",
     "output_type": "stream",
     "text": [
      "Requirement already satisfied: gensim in /opt/conda/lib/python3.11/site-packages (4.3.1)\n",
      "Requirement already satisfied: numpy>=1.18.5 in /opt/conda/lib/python3.11/site-packages (from gensim) (1.23.5)\n",
      "Requirement already satisfied: scipy>=1.7.0 in /opt/conda/lib/python3.11/site-packages (from gensim) (1.10.1)\n",
      "Requirement already satisfied: smart-open>=1.8.1 in /opt/conda/lib/python3.11/site-packages (from gensim) (6.3.0)\n"
     ]
    }
   ],
   "source": [
    "!pip install gensim"
   ]
  },
  {
   "cell_type": "code",
   "execution_count": 11,
   "id": "14e13055-c524-4307-b14c-3c466fb210bf",
   "metadata": {},
   "outputs": [
    {
     "name": "stdout",
     "output_type": "stream",
     "text": [
      "python==3.11.3\n",
      "pandas==2.0.2\n",
      "gensim==4.3.1\n",
      "scikit-learn==1.2.2\n",
      "matplotlib==3.7.1\n"
     ]
    }
   ],
   "source": [
    "import re\n",
    "import sys\n",
    "from pathlib import Path\n",
    "print(\"python=={}\".format(re.sub(r'\\s.*', '', sys.version)))\n",
    "\n",
    "import pandas as pd\n",
    "print(f\"pandas=={pd.__version__}\")\n",
    "ROW    = 0\n",
    "COLUMN = 1\n",
    "STRING = 'string'\n",
    "OBJECT = 'object'\n",
    "NUMBER = 'number'\n",
    "CATEGORY = 'category'\n",
    "INTEGER = 'integer'\n",
    "UNSIGNED = 'unsigned'\n",
    "FLOAT = 'float'\n",
    "\n",
    "# many examples on the 'web use older versions of Gensim, so you may have to\n",
    "# fix their code before use.\n",
    "from gensim.models.doc2vec import Doc2Vec, TaggedDocument\n",
    "from gensim import __version__ as gensim__version__\n",
    "print(f\"gensim=={gensim__version__}\")\n",
    "\n",
    "from sklearn.cluster import KMeans\n",
    "from sklearn.decomposition import PCA\n",
    "from sklearn import __version__ as sklearn__version__\n",
    "print(f\"scikit-learn=={sklearn__version__}\")\n",
    "\n",
    "import matplotlib.pyplot as plt\n",
    "from matplotlib import __version__ as matplotlib__version__\n",
    "print(f\"matplotlib=={matplotlib__version__}\")\n"
   ]
  },
  {
   "cell_type": "code",
   "execution_count": 3,
   "id": "22c6355d-3855-41a0-8d9b-f8f728c472ba",
   "metadata": {},
   "outputs": [
    {
     "name": "stdout",
     "output_type": "stream",
     "text": [
      "'Duurzaamheidsvisie' documents = ../cache/Governance/GM????DV??.txt\n"
     ]
    }
   ],
   "source": [
    "CACHE_DIR = '../cache/Governance'\n",
    "\n",
    "GLOB_DV = CACHE_DIR + '/GM????DV??.txt'\n",
    "\n",
    "# take a glob and make it iterable. We cannot use globs as objects, since these get\n",
    "# \"exhausted\" when you iterate over them.\n",
    "# https://stackoverflow.com/questions/51108256/how-to-take-a-pathname-string-with-wildcards-and-resolve-the-glob-with-pathlib\n",
    "def expand_glob(glob):\n",
    "    p = Path(glob)\n",
    "    return Path(p.parent).expanduser().glob(p.name)\n",
    "\n",
    "print(f\"'Duurzaamheidsvisie' documents = {GLOB_DV}\")\n",
    "\n",
    "DOCUMENT_BODY = 'body'\n",
    "\n",
    "def load_corpus_as_dataframe(glob):\n",
    "    df = pd.DataFrame(data   =[file.read_text() for file in expand_glob(glob)],\n",
    "                      index  =[file.stem        for file in expand_glob(glob)],\n",
    "                      columns=[DOCUMENT_BODY])\n",
    "    df[DOCUMENT_BODY] = df[DOCUMENT_BODY].astype(STRING)\n",
    "\n",
    "    return df\n"
   ]
  },
  {
   "cell_type": "code",
   "execution_count": 4,
   "id": "a4e9e8f7-2826-499e-821d-916290cbaff5",
   "metadata": {},
   "outputs": [
    {
     "data": {
      "text/html": [
       "<div>\n",
       "<style scoped>\n",
       "    .dataframe tbody tr th:only-of-type {\n",
       "        vertical-align: middle;\n",
       "    }\n",
       "\n",
       "    .dataframe tbody tr th {\n",
       "        vertical-align: top;\n",
       "    }\n",
       "\n",
       "    .dataframe thead th {\n",
       "        text-align: right;\n",
       "    }\n",
       "</style>\n",
       "<table border=\"1\" class=\"dataframe\">\n",
       "  <thead>\n",
       "    <tr style=\"text-align: right;\">\n",
       "      <th></th>\n",
       "      <th>body</th>\n",
       "    </tr>\n",
       "  </thead>\n",
       "  <tbody>\n",
       "    <tr>\n",
       "      <th>GM0003DV02</th>\n",
       "      <td>duurzaamheidsbeleid Appingedam duurzaamheidsbe...</td>\n",
       "    </tr>\n",
       "    <tr>\n",
       "      <th>GM0005DV01</th>\n",
       "      <td>colofon gemeente bedum bezoekadres Schoolstraa...</td>\n",
       "    </tr>\n",
       "    <tr>\n",
       "      <th>GM0007DV01</th>\n",
       "      <td>Milieubeleidsplan vaststellen gemeenteraad bel...</td>\n",
       "    </tr>\n",
       "    <tr>\n",
       "      <th>GM0009DV01</th>\n",
       "      <td>inhoud duurzaamheidsvisie februari inhoud inho...</td>\n",
       "    </tr>\n",
       "    <tr>\n",
       "      <th>GM0034DV01</th>\n",
       "      <td>verseonnr dagmail december raad gemeente almer...</td>\n",
       "    </tr>\n",
       "  </tbody>\n",
       "</table>\n",
       "</div>"
      ],
      "text/plain": [
       "                                                         body\n",
       "GM0003DV02  duurzaamheidsbeleid Appingedam duurzaamheidsbe...\n",
       "GM0005DV01  colofon gemeente bedum bezoekadres Schoolstraa...\n",
       "GM0007DV01  Milieubeleidsplan vaststellen gemeenteraad bel...\n",
       "GM0009DV01  inhoud duurzaamheidsvisie februari inhoud inho...\n",
       "GM0034DV01  verseonnr dagmail december raad gemeente almer..."
      ]
     },
     "execution_count": 4,
     "metadata": {},
     "output_type": "execute_result"
    }
   ],
   "source": [
    "corpus = load_corpus_as_dataframe(GLOB_DV)\n",
    "corpus.head()\n"
   ]
  },
  {
   "cell_type": "code",
   "execution_count": 5,
   "id": "324959be-98e9-4dd0-816c-8cf371ba32d1",
   "metadata": {},
   "outputs": [],
   "source": [
    "def make_into_tagged_documents(series):\n",
    "    return [TaggedDocument(doc.split(' '), [i]) for i, doc in series.items()]"
   ]
  },
  {
   "cell_type": "code",
   "execution_count": 6,
   "id": "1fb41cef-2a05-4245-88fa-fd74bd2ca41b",
   "metadata": {},
   "outputs": [
    {
     "name": "stdout",
     "output_type": "stream",
     "text": [
      "255\n"
     ]
    }
   ],
   "source": [
    "all_content = make_into_tagged_documents(corpus[DOCUMENT_BODY])"
   ]
  },
  {
   "cell_type": "code",
   "execution_count": 16,
   "id": "639463d8-e60d-4a73-9961-ffc66039d4e1",
   "metadata": {},
   "outputs": [],
   "source": [
    "#\"\"\"**Create a model using Doc2Vec and train it**\"\"\"\n",
    "\n",
    "d2v_model = Doc2Vec(all_content, vector_size=300, min_count = 5,dm = 0, \n",
    "                alpha=0.0025, min_alpha=0.0001)\n",
    "d2v_model.train(all_content, total_examples=d2v_model.corpus_count, epochs=50, start_alpha=0.002, end_alpha=-0.016)\n"
   ]
  },
  {
   "cell_type": "code",
   "execution_count": 18,
   "id": "62ef9024-7348-4ead-aaf8-b231b8d5a921",
   "metadata": {},
   "outputs": [
    {
     "data": {
      "text/plain": [
       "255"
      ]
     },
     "execution_count": 18,
     "metadata": {},
     "output_type": "execute_result"
    }
   ],
   "source": [
    "len(d2v_model.dv.vectors)"
   ]
  },
  {
   "cell_type": "code",
   "execution_count": 29,
   "id": "b89af264-125a-4370-9553-1481db6de094",
   "metadata": {},
   "outputs": [
    {
     "data": {
      "text/plain": [
       "function"
      ]
     },
     "execution_count": 29,
     "metadata": {},
     "output_type": "execute_result"
    }
   ],
   "source": [
    "type(d2v_model.dv.cosine_similarities)\n",
    "\n",
    "# read on cosine_similarities"
   ]
  },
  {
   "cell_type": "code",
   "execution_count": 20,
   "id": "cf29f700-0d03-4491-8d67-a3a122605017",
   "metadata": {},
   "outputs": [
    {
     "data": {
      "image/png": "[encoded data removed]",
      "text/plain": [
       "<Figure size 640x480 with 1 Axes>"
      ]
     },
     "metadata": {},
     "output_type": "display_data"
    }
   ],
   "source": [
    "#\"\"\"**Apply K-means clustering on the model**\"\"\"\n",
    "#Elbow Method\n",
    "nc = range(1,10)\n",
    "kmeans = []\n",
    "score = []\n",
    "kmeans = [KMeans(n_clusters = i, n_init = 100, max_iter = 500) for i in nc]               \n",
    "score = [kmeans[i].fit(d2v_model.dv.vectors).score(d2v_model.dv.vectors) for i in range(len(kmeans))]\n",
    "\n",
    "# Plot the elbow\n",
    "plt.plot(nc,score)\n",
    "plt.xlabel('Number of Clusters')\n",
    "plt.ylabel('Score')\n",
    "plt.title('Elbow Curve')\n",
    "plt.show()\n"
   ]
  },
  {
   "cell_type": "code",
   "execution_count": 21,
   "id": "0bdacb92-a7c8-471d-b639-e087efaa27cc",
   "metadata": {},
   "outputs": [],
   "source": [
    "K_value = 5\n",
    "# XXX for Gensim 3.8.3, which is no longer installable... kmeans_model = KMeans(n_clusters = K_value, init='k-means++', n_init = 2000, max_iter = 6000, precompute_distances = 'auto')  \n",
    "kmeans_model = KMeans(n_clusters=K_value, n_init='auto') \n",
    "X = kmeans_model.fit(d2v_model.dv.vectors)\n",
    "clusters = kmeans_model.predict(d2v_model.dv.vectors)\n",
    "labels = kmeans_model.labels_.tolist()\n"
   ]
  },
  {
   "cell_type": "code",
   "execution_count": 22,
   "id": "1b9dafc5-cab8-4357-966a-e23e132fb1c0",
   "metadata": {},
   "outputs": [],
   "source": [
    "#PCA\n",
    "l = kmeans_model.fit_predict(d2v_model.dv.vectors)\n",
    "pca = PCA(n_components=2).fit(d2v_model.dv.vectors)\n",
    "datapoint = pca.transform(d2v_model.dv.vectors)\n"
   ]
  },
  {
   "cell_type": "code",
   "execution_count": 24,
   "id": "725a856d-248f-45f1-8298-ad6ccd72db2f",
   "metadata": {},
   "outputs": [
    {
     "data": {
      "image/png": "[encoded data removed]",
      "text/plain": [
       "<Figure size 640x480 with 1 Axes>"
      ]
     },
     "metadata": {},
     "output_type": "display_data"
    }
   ],
   "source": [
    "#GRAPH\n",
    "#\"\"\"**Plot the clustering result**\"\"\"\n",
    "\n",
    "plt.figure\n",
    "label1 = [\"#FFFF00\", \"#008000\", \"#0000FF\", \"#800080\", \"#cccccc\"]\n",
    "color = [label1[i] for i in labels]\n",
    "plt.scatter(datapoint[:, 0], datapoint[:, 1], c=color)\n",
    "\n",
    "centroids = kmeans_model.cluster_centers_\n",
    "centroidpoint = pca.transform(centroids)\n",
    "plt.scatter(centroidpoint[:, 0], centroidpoint[:, 1], marker='^', s=150, c='#000000')\n",
    "plt.show()\n"
   ]
  },
  {
   "cell_type": "code",
   "execution_count": null,
   "id": "22a2db94-7222-458b-a3aa-74322f26df02",
   "metadata": {},
   "outputs": [],
   "source": []
  },
  {
   "cell_type": "code",
   "execution_count": null,
   "id": "411309f2-1a6c-4062-952c-e0871fb5b6db",
   "metadata": {},
   "outputs": [],
   "source": []
  },
  {
   "cell_type": "code",
   "execution_count": null,
   "id": "eb9b703d-c667-4525-84fb-57716751bde7",
   "metadata": {},
   "outputs": [],
   "source": []
  },
  {
   "cell_type": "code",
   "execution_count": null,
   "id": "d3887ffe-00ba-4bba-a4a2-08fc1d34718b",
   "metadata": {},
   "outputs": [],
   "source": []
  },
  {
   "cell_type": "code",
   "execution_count": null,
   "id": "14ef6924-60d6-4262-9377-61133cba7810",
   "metadata": {},
   "outputs": [],
   "source": []
  }
 ],
 "metadata": {
  "kernelspec": {
   "display_name": "Python 3 (ipykernel)",
   "language": "python",
   "name": "python3"
  },
  "language_info": {
   "codemirror_mode": {
    "name": "ipython",
    "version": 3
   },
   "file_extension": ".py",
   "mimetype": "text/x-python",
   "name": "python",
   "nbconvert_exporter": "python",
   "pygments_lexer": "ipython3",
   "version": "3.11.3"
  }
 },
 "nbformat": 4,
 "nbformat_minor": 5
}
