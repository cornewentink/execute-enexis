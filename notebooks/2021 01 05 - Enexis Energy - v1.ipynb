{
 "cells": [
  {
   "cell_type": "markdown",
   "metadata": {
    "id": "PpLWCBFNuons"
   },
   "source": [
    "# Enexis Energy - Data Science case study - Bird's eye view of the data"
   ]
  },
  {
   "cell_type": "code",
   "execution_count": 1,
   "metadata": {
    "executionInfo": {
     "elapsed": 698,
     "status": "ok",
     "timestamp": 1608147217503,
     "user": {
      "displayName": "pi1234",
      "photoUrl": "",
      "userId": "00485952581093036663"
     },
     "user_tz": -60
    },
    "id": "r_EATkKHugiZ"
   },
   "outputs": [],
   "source": [
    "#pip install --user pyarrow\n",
    "\n",
    "# Requirement already satisfied: pyarrow in /usr/local/lib/python3.6/dist-packages (0.14.1)\n",
    "# Requirement already satisfied: numpy>=1.14 in /usr/local/lib/python3.6/dist-packages (from pyarrow) (1.18.5)\n",
    "# Requirement already satisfied: six>=1.0.0 in /usr/local/lib/python3.6/dist-packages (from pyarrow) (1.15.0)"
   ]
  },
  {
   "cell_type": "markdown",
   "metadata": {
    "id": "PPQo8za16cQT"
   },
   "source": [
    "### Importing packages"
   ]
  },
  {
   "cell_type": "code",
   "execution_count": 2,
   "metadata": {
    "executionInfo": {
     "elapsed": 696,
     "status": "ok",
     "timestamp": 1608147217504,
     "user": {
      "displayName": "pi1234",
      "photoUrl": "",
      "userId": "00485952581093036663"
     },
     "user_tz": -60
    },
    "id": "OlwScieYRTmf"
   },
   "outputs": [],
   "source": [
    "import pandas as pd\n",
    "import sys\n",
    "import matplotlib.pyplot as plt"
   ]
  },
  {
   "cell_type": "markdown",
   "metadata": {
    "id": "Dm7aDtim6guo"
   },
   "source": [
    "### Functions"
   ]
  },
  {
   "cell_type": "code",
   "execution_count": 3,
   "metadata": {
    "executionInfo": {
     "elapsed": 695,
     "status": "ok",
     "timestamp": 1608147217505,
     "user": {
      "displayName": "pi1234",
      "photoUrl": "",
      "userId": "00485952581093036663"
     },
     "user_tz": -60
    },
    "id": "f1PDhgg8ZBbf"
   },
   "outputs": [],
   "source": [
    "def f_concat(l_input):\n",
    "\n",
    "    # Initialize.\n",
    "    dummy = \"\"\n",
    "    n_len = len(l_input)\n",
    "    \n",
    "    if n_len == 1:\n",
    "        return l_input[0]\n",
    "\n",
    "    # Loop through text elements.\n",
    "    for i in range(n_len-1):\n",
    "        dummy = dummy + l_input[i] + \", \"\n",
    "\n",
    "    # Append last element.\n",
    "    dummy = dummy + \"and \" + l_input[n_len-1]\n",
    "\n",
    "    # Return result.\n",
    "    return dummy"
   ]
  },
  {
   "cell_type": "code",
   "execution_count": 4,
   "metadata": {
    "executionInfo": {
     "elapsed": 765,
     "status": "ok",
     "timestamp": 1608147219439,
     "user": {
      "displayName": "pi1234",
      "photoUrl": "",
      "userId": "00485952581093036663"
     },
     "user_tz": -60
    },
    "id": "hp-PONLQV4Rp"
   },
   "outputs": [],
   "source": [
    "def f_info(df_input, c_feature, n_top =  10):\n",
    "\n",
    "    # Testing!\n",
    "    #df_input  = df_historyPerYear\n",
    "    #c_feature = \"year\"\n",
    "    #n_top     = 3\n",
    "\n",
    "    # Do not calculate the frequency table in case the feature has unique values.\n",
    "    if(df_input[c_feature].is_unique):\n",
    "        print(\"Feature '\" + c_feature + \"' is unique.\")\n",
    "        return\n",
    "\n",
    "\n",
    "    # Load package.\n",
    "    from collections import Counter\n",
    "\n",
    "    # Bereken frequenties.\n",
    "    c = Counter(df_input[c_feature])\n",
    "\n",
    "    # Converteer naar data frame.\n",
    "    df_output         = pd.DataFrame(list(c.items()))\n",
    "\n",
    "    # Hernoem kolomnamen.\n",
    "    df_output.columns = [\"level\", \"n\"]\n",
    "\n",
    "    # Bereken percentage.\n",
    "    df_output[\"perc\"] = round(100 * df_output[\"n\"] / df_input.shape[0], 1).astype(str) + \"%\"\n",
    "\n",
    "    # Sorteer data frame op frequentie.\n",
    "    df_output         = df_output.sort_values(by = \"n\", ascending = False)\n",
    "\n",
    "    # Reset index en verwijder index kolom die daardoor ontstaat.\n",
    "    df_output         = df_output.reset_index().drop(columns=['index'])\n",
    "\n",
    "    # Display tabel zonder index.\n",
    "    # https://stackoverflow.com/questions/61363712/how-to-print-a-pandas-io-formats-style-styler-object\n",
    "    if(df_output.shape[0] <= n_top):\n",
    "        c.message = \"we tonen alle \" + str(df_output.shape[0]) + \" levels:\"\n",
    "        \n",
    "    else:\n",
    "        c.message = \"we tonen de Top-\" + str(n_top) + \" van de \" + str(df_output.shape[0]) + \" levels:\"\n",
    "\n",
    "        \n",
    "    # Print header\n",
    "    print(\"Frequentietabel voor '\" + c_feature + \"', \" + c.message + \"\\n\")\n",
    "        \n",
    "    print(f\"'None': {c[None]} ({round(100 * c[None] / df_input.shape[0], 1)}%)\")\n",
    "\n",
    "    print(f\"'NA':   {df_input[c_feature].isna().sum()} ({round(100 * df_input[c_feature].isna().sum() / df_input.shape[0], 1)}%)\")\n",
    "            \n",
    "    display(df_output.head(n_top).style.hide_index())\n",
    "    \n",
    "    #plt.hist(df[\"year\"], bins=10, orientation='horizontal') #plt.show()\n",
    "\n",
    "    # Plot frequency if count is smaller than 20.\n",
    "    v_data_to_plot = df[c_feature].value_counts(sort = True)[0:n_top]\n",
    "    \n",
    "    # https://stackoverflow.com/questions/36367986/how-to-make-inline-plots-in-jupyter-notebook-larger\n",
    "    plt.rcParams['figure.figsize'] = [15, 5]\n",
    "    \n",
    "    fig, ax = plt.subplots()\n",
    "    v_data_to_plot.plot(kind='bar', ax=ax)  \n",
    "    plt.show()\n",
    "    "
   ]
  },
  {
   "cell_type": "code",
   "execution_count": 17,
   "metadata": {},
   "outputs": [],
   "source": [
    "#df['transactions'].value_counts(sort = True)[0:10]"
   ]
  },
  {
   "cell_type": "code",
   "execution_count": 18,
   "metadata": {},
   "outputs": [],
   "source": [
    "#f_info(df, \"month\", 15)"
   ]
  },
  {
   "cell_type": "code",
   "execution_count": 5,
   "metadata": {},
   "outputs": [],
   "source": [
    "def f_describe(df_input, n_top = 10):\n",
    "    \n",
    "    print(\"First \" + str(n_top) + \" rows in de data:\")\n",
    "    display(df_input.head(n_top))\n",
    "     \n",
    "    \n",
    "    df_numeric = df_input.select_dtypes(include = ['uint8', 'uint16', 'uint32', 'uint64', 'int8', 'int16', 'int32', 'int64', 'float16', 'float32', 'float64'])\n",
    "\n",
    "    if len(df_numeric.columns):\n",
    "        print(\"Numerical data:\")\n",
    "        display(df_numeric.describe())\n",
    "\n",
    "        \n",
    "    df_textual = df_input.select_dtypes(include = ['category', 'object', 'bool'])\n",
    "\n",
    "    if len(df_textual.columns):\n",
    "        print(\"Textual data:\")\n",
    "        display(df_textual.describe())\n",
    "        \n",
    "        \n",
    "    v_na = [col + \" (\" + str(df[col].isna().sum()) + \", \" + str(round(100 * df[col].isna().sum() / df.shape[0], 1)) + \"%)\" for col in df.columns if df[col].isna().sum() > 0]\n",
    "\n",
    "    if len(v_na) > 0:\n",
    "        print(\"Features and their number of missing values:\")\n",
    "        display(f_concat(v_na))\n"
   ]
  },
  {
   "cell_type": "code",
   "execution_count": 111,
   "metadata": {
    "id": "XaDlRA_wRK0U"
   },
   "outputs": [],
   "source": [
    "def f_get_data(i=0):\n",
    "\n",
    "    #c_path = \"drive/MyDrive/Colab Notebooks/2021 01 - Execute/EyeOn/Data/\"\n",
    "\n",
    "    # Define path.\n",
    "    c_path = \"/Users/home/OneDrive - IWD/Clients/PE/2021 01 - Execute - Enexis/Data/\"\n",
    "\n",
    "    # Identify file.\n",
    "    v_file = (\"Enexis_kleinverbruiksgegevens_01012010\",                                          # 0\n",
    "              \"Enexis_kleinverbruiksgegevens_01012020\",                                          # 1\n",
    "              \"Enexis_decentrale_opwek_kv_(zon_pv)_01012020\",                                    # 2\n",
    "              \"Open_Asset_Data_Elektra_CSV/IMKL-Appurtenance_E_Lv_Charging_Point_Noord_ligging\", # 3\n",
    "              \"CBS_PC6_2016_v2\")                                                                 # 4\n",
    "    \n",
    "    \n",
    "    # Assign decimal separator.\n",
    "    if(i in [0, 1]):\n",
    "        c_decimal = \",\"\n",
    "        \n",
    "    else:\n",
    "        c_decimal = \".\"\n",
    "        \n",
    "        \n",
    "    # Load data. Used encoding= 'unicode_escape' to read 'kvb 01012010'.\n",
    "    df     = pd.read_csv(filepath_or_buffer = c_path + v_file[i] + \".csv\",\n",
    "                         sep                = ';',\n",
    "                         decimal            = c_decimal,\n",
    "                         encoding           = 'unicode_escape')\n",
    "    \n",
    "    print(c_path + v_file[i] + \".csv\")\n",
    "    print(c_decimal)\n",
    "    \n",
    "    # Return data.\n",
    "    return df"
   ]
  },
  {
   "cell_type": "markdown",
   "metadata": {
    "id": "-zXWuFInRee5"
   },
   "source": [
    "### Importing data\n",
    "Import the data by selecting the index of the file in v_file in f_get_data."
   ]
  },
  {
   "cell_type": "code",
   "execution_count": 122,
   "metadata": {},
   "outputs": [
    {
     "name": "stdout",
     "output_type": "stream",
     "text": [
      "/Users/home/OneDrive - IWD/Clients/PE/2021 01 - Execute - Enexis/Data/Enexis_decentrale_opwek_kv_(zon_pv)_01012020.csv\n",
      ".\n"
     ]
    }
   ],
   "source": [
    "df = f_get_data(2)"
   ]
  },
  {
   "cell_type": "markdown",
   "metadata": {},
   "source": [
    "### Downcast data as needed"
   ]
  },
  {
   "cell_type": "code",
   "execution_count": 123,
   "metadata": {},
   "outputs": [
    {
     "name": "stdout",
     "output_type": "stream",
     "text": [
      "The data:\n",
      "\n",
      "-> has size of 0.0 GB.\n",
      "\n",
      "<class 'pandas.core.frame.DataFrame'>\n",
      "RangeIndex: 4647 entries, 0 to 4646\n",
      "Data columns (total 9 columns):\n",
      " #   Column                                     Non-Null Count  Dtype  \n",
      "---  ------                                     --------------  -----  \n",
      " 0   ï»¿Peildatum                               3890 non-null   float64\n",
      " 1   Netbeheerder                               3890 non-null   object \n",
      " 2   Provincie                                  3889 non-null   object \n",
      " 3   Gemeente                                   3888 non-null   object \n",
      " 4   CBS Buurt                                  3757 non-null   object \n",
      " 5   CBS Buurtcode                              3729 non-null   float64\n",
      " 6   Aantal aansluitingen in CBS-buurt          3890 non-null   float64\n",
      " 7   Aantal aansluitingen met opwekinstallatie  3890 non-null   float64\n",
      " 8   Opgesteld vermogen                         3890 non-null   float64\n",
      "dtypes: float64(5), object(4)\n",
      "memory usage: 326.9+ KB\n"
     ]
    }
   ],
   "source": [
    "# A few basic statistics on the data frame.\n",
    "print(\"The data:\\n\")\n",
    "print(f\"-> has size of {round(sys.getsizeof(df)/1024/1024/1024, 1)} GB.\")\n",
    "print(\"\")\n",
    "\n",
    "df.info()"
   ]
  },
  {
   "cell_type": "code",
   "execution_count": 124,
   "metadata": {},
   "outputs": [
    {
     "name": "stdout",
     "output_type": "stream",
     "text": [
      "\n",
      "change: integer --> unsigned\n",
      "\n",
      "change: float --> float\n",
      "ï»¿Peildatum\n",
      "CBS Buurtcode\n",
      "Aantal aansluitingen in CBS-buurt \n",
      "Aantal aansluitingen met opwekinstallatie\n",
      "Opgesteld vermogen\n"
     ]
    }
   ],
   "source": [
    "# objects to categorical - Not applicable here because there are no 'object' features\n",
    "df[df.select_dtypes(include='object').columns] = df.select_dtypes(include='object').astype('category')\n",
    "\n",
    "# convert integers to smallest unsigned integer and floats to smallest\n",
    "for old, new in [('integer', 'unsigned'), ('float', 'float')]:\n",
    "    \n",
    "    print(\"\\nchange: \" + old + \" --> \" + new)\n",
    "    \n",
    "    for col in df.select_dtypes(include=old).columns:\n",
    "        \n",
    "        print(col)\n",
    "        \n",
    "        df[col] = pd.to_numeric(df[col], downcast=new)"
   ]
  },
  {
   "cell_type": "code",
   "execution_count": 125,
   "metadata": {},
   "outputs": [
    {
     "name": "stdout",
     "output_type": "stream",
     "text": [
      "<class 'pandas.core.frame.DataFrame'>\n",
      "RangeIndex: 4647 entries, 0 to 4646\n",
      "Data columns (total 9 columns):\n",
      " #   Column                                     Non-Null Count  Dtype   \n",
      "---  ------                                     --------------  -----   \n",
      " 0   ï»¿Peildatum                               3890 non-null   float32 \n",
      " 1   Netbeheerder                               3890 non-null   category\n",
      " 2   Provincie                                  3889 non-null   category\n",
      " 3   Gemeente                                   3888 non-null   category\n",
      " 4   CBS Buurt                                  3757 non-null   category\n",
      " 5   CBS Buurtcode                              3729 non-null   float32 \n",
      " 6   Aantal aansluitingen in CBS-buurt          3890 non-null   float32 \n",
      " 7   Aantal aansluitingen met opwekinstallatie  3890 non-null   float32 \n",
      " 8   Opgesteld vermogen                         3890 non-null   float32 \n",
      "dtypes: category(4), float32(5)\n",
      "memory usage: 312.9 KB\n"
     ]
    }
   ],
   "source": [
    "df.info()"
   ]
  },
  {
   "cell_type": "markdown",
   "metadata": {
    "id": "JRjToxz4Rb3h"
   },
   "source": [
    "### Some Statistics:"
   ]
  },
  {
   "cell_type": "code",
   "execution_count": 126,
   "metadata": {
    "colab": {
     "base_uri": "https://localhost:8080/"
    },
    "executionInfo": {
     "elapsed": 11505,
     "status": "ok",
     "timestamp": 1608136751408,
     "user": {
      "displayName": "pi1234",
      "photoUrl": "",
      "userId": "00485952581093036663"
     },
     "user_tz": -60
    },
    "id": "HV1Ee1SwSefa",
    "outputId": "d77a35c0-17b1-4328-f216-9a9d85c81220"
   },
   "outputs": [
    {
     "name": "stdout",
     "output_type": "stream",
     "text": [
      "The data:\n",
      "\n",
      "-> contain 0.0 million observations and 9 features.\n",
      "\n",
      "-> contain 4647 observations and 9 features.\n",
      "\n",
      "-> have feature names: ï»¿Peildatum, Netbeheerder, Provincie, Gemeente, CBS Buurt , CBS Buurtcode, Aantal aansluitingen in CBS-buurt , Aantal aansluitingen met opwekinstallatie, and Opgesteld vermogen.\n",
      "\n",
      "-> has size of 0.0 GB.\n"
     ]
    }
   ],
   "source": [
    "print(\"The data:\\n\")\n",
    "print(f\"-> contain {round(df.shape[0]/1e6, 1)} million observations and {df.shape[1]} features.\\n\")\n",
    "print(f\"-> contain {df.shape[0]} observations and {df.shape[1]} features.\\n\")\n",
    "print(f\"-> have feature names: {f_concat(df.columns)}.\\n\")\n",
    "print(f\"-> has size of {round(sys.getsizeof(df)/1024/1024/1024, 1)} GB.\")"
   ]
  },
  {
   "cell_type": "code",
   "execution_count": 127,
   "metadata": {},
   "outputs": [
    {
     "name": "stdout",
     "output_type": "stream",
     "text": [
      "First 10 rows in de data:\n"
     ]
    },
    {
     "data": {
      "text/html": [
       "<div>\n",
       "<style scoped>\n",
       "    .dataframe tbody tr th:only-of-type {\n",
       "        vertical-align: middle;\n",
       "    }\n",
       "\n",
       "    .dataframe tbody tr th {\n",
       "        vertical-align: top;\n",
       "    }\n",
       "\n",
       "    .dataframe thead th {\n",
       "        text-align: right;\n",
       "    }\n",
       "</style>\n",
       "<table border=\"1\" class=\"dataframe\">\n",
       "  <thead>\n",
       "    <tr style=\"text-align: right;\">\n",
       "      <th></th>\n",
       "      <th>ï»¿Peildatum</th>\n",
       "      <th>Netbeheerder</th>\n",
       "      <th>Provincie</th>\n",
       "      <th>Gemeente</th>\n",
       "      <th>CBS Buurt</th>\n",
       "      <th>CBS Buurtcode</th>\n",
       "      <th>Aantal aansluitingen in CBS-buurt</th>\n",
       "      <th>Aantal aansluitingen met opwekinstallatie</th>\n",
       "      <th>Opgesteld vermogen</th>\n",
       "    </tr>\n",
       "  </thead>\n",
       "  <tbody>\n",
       "    <tr>\n",
       "      <th>0</th>\n",
       "      <td>202001.0</td>\n",
       "      <td>Enexis</td>\n",
       "      <td>Groningen</td>\n",
       "      <td>Appingedam</td>\n",
       "      <td>Appingedam-Centrum</td>\n",
       "      <td>30000.0</td>\n",
       "      <td>1.480</td>\n",
       "      <td>155.0</td>\n",
       "      <td>507.000</td>\n",
       "    </tr>\n",
       "    <tr>\n",
       "      <th>1</th>\n",
       "      <td>202001.0</td>\n",
       "      <td>Enexis</td>\n",
       "      <td>Groningen</td>\n",
       "      <td>Appingedam</td>\n",
       "      <td>Appingedam-West</td>\n",
       "      <td>30001.0</td>\n",
       "      <td>1.331</td>\n",
       "      <td>479.0</td>\n",
       "      <td>1.685</td>\n",
       "    </tr>\n",
       "    <tr>\n",
       "      <th>2</th>\n",
       "      <td>202001.0</td>\n",
       "      <td>Enexis</td>\n",
       "      <td>Groningen</td>\n",
       "      <td>Appingedam</td>\n",
       "      <td>Appingedam-Oost</td>\n",
       "      <td>30002.0</td>\n",
       "      <td>2.826</td>\n",
       "      <td>439.0</td>\n",
       "      <td>1.616</td>\n",
       "    </tr>\n",
       "    <tr>\n",
       "      <th>3</th>\n",
       "      <td>202001.0</td>\n",
       "      <td>Enexis</td>\n",
       "      <td>Groningen</td>\n",
       "      <td>Appingedam</td>\n",
       "      <td>Verspreide huizen Damsterdiep en Eemskanaal</td>\n",
       "      <td>30007.0</td>\n",
       "      <td>230.000</td>\n",
       "      <td>97.0</td>\n",
       "      <td>405.000</td>\n",
       "    </tr>\n",
       "    <tr>\n",
       "      <th>4</th>\n",
       "      <td>202001.0</td>\n",
       "      <td>Enexis</td>\n",
       "      <td>Groningen</td>\n",
       "      <td>Appingedam</td>\n",
       "      <td>Verspreide huizen ten zuiden van Eemskanaal</td>\n",
       "      <td>30008.0</td>\n",
       "      <td>102.000</td>\n",
       "      <td>21.0</td>\n",
       "      <td>61.000</td>\n",
       "    </tr>\n",
       "    <tr>\n",
       "      <th>5</th>\n",
       "      <td>202001.0</td>\n",
       "      <td>Enexis</td>\n",
       "      <td>Groningen</td>\n",
       "      <td>Appingedam</td>\n",
       "      <td>Verspreide huizen ten noorden van het Damsterdiep</td>\n",
       "      <td>30009.0</td>\n",
       "      <td>137.000</td>\n",
       "      <td>31.0</td>\n",
       "      <td>166.000</td>\n",
       "    </tr>\n",
       "    <tr>\n",
       "      <th>6</th>\n",
       "      <td>202001.0</td>\n",
       "      <td>Enexis</td>\n",
       "      <td>Groningen</td>\n",
       "      <td>Groningen</td>\n",
       "      <td>Ten Boer</td>\n",
       "      <td>90000.0</td>\n",
       "      <td>1.732</td>\n",
       "      <td>534.0</td>\n",
       "      <td>1.656</td>\n",
       "    </tr>\n",
       "    <tr>\n",
       "      <th>7</th>\n",
       "      <td>202001.0</td>\n",
       "      <td>Enexis</td>\n",
       "      <td>Groningen</td>\n",
       "      <td>Groningen</td>\n",
       "      <td>Sint-Annen</td>\n",
       "      <td>90003.0</td>\n",
       "      <td>58.000</td>\n",
       "      <td>24.0</td>\n",
       "      <td>93.000</td>\n",
       "    </tr>\n",
       "    <tr>\n",
       "      <th>8</th>\n",
       "      <td>202001.0</td>\n",
       "      <td>Enexis</td>\n",
       "      <td>Groningen</td>\n",
       "      <td>Groningen</td>\n",
       "      <td>Verspreide huizen ten noorden van het Eemskanaal</td>\n",
       "      <td>90009.0</td>\n",
       "      <td>488.000</td>\n",
       "      <td>196.0</td>\n",
       "      <td>1.109</td>\n",
       "    </tr>\n",
       "    <tr>\n",
       "      <th>9</th>\n",
       "      <td>202001.0</td>\n",
       "      <td>Enexis</td>\n",
       "      <td>Groningen</td>\n",
       "      <td>Groningen</td>\n",
       "      <td>Ten Post</td>\n",
       "      <td>90100.0</td>\n",
       "      <td>266.000</td>\n",
       "      <td>107.0</td>\n",
       "      <td>585.000</td>\n",
       "    </tr>\n",
       "  </tbody>\n",
       "</table>\n",
       "</div>"
      ],
      "text/plain": [
       "   ï»¿Peildatum Netbeheerder  Provincie    Gemeente  \\\n",
       "0      202001.0       Enexis  Groningen  Appingedam   \n",
       "1      202001.0       Enexis  Groningen  Appingedam   \n",
       "2      202001.0       Enexis  Groningen  Appingedam   \n",
       "3      202001.0       Enexis  Groningen  Appingedam   \n",
       "4      202001.0       Enexis  Groningen  Appingedam   \n",
       "5      202001.0       Enexis  Groningen  Appingedam   \n",
       "6      202001.0       Enexis  Groningen   Groningen   \n",
       "7      202001.0       Enexis  Groningen   Groningen   \n",
       "8      202001.0       Enexis  Groningen   Groningen   \n",
       "9      202001.0       Enexis  Groningen   Groningen   \n",
       "\n",
       "                                          CBS Buurt   CBS Buurtcode  \\\n",
       "0                                 Appingedam-Centrum        30000.0   \n",
       "1                                    Appingedam-West        30001.0   \n",
       "2                                    Appingedam-Oost        30002.0   \n",
       "3        Verspreide huizen Damsterdiep en Eemskanaal        30007.0   \n",
       "4        Verspreide huizen ten zuiden van Eemskanaal        30008.0   \n",
       "5  Verspreide huizen ten noorden van het Damsterdiep        30009.0   \n",
       "6                                           Ten Boer        90000.0   \n",
       "7                                         Sint-Annen        90003.0   \n",
       "8   Verspreide huizen ten noorden van het Eemskanaal        90009.0   \n",
       "9                                           Ten Post        90100.0   \n",
       "\n",
       "   Aantal aansluitingen in CBS-buurt   \\\n",
       "0                               1.480   \n",
       "1                               1.331   \n",
       "2                               2.826   \n",
       "3                             230.000   \n",
       "4                             102.000   \n",
       "5                             137.000   \n",
       "6                               1.732   \n",
       "7                              58.000   \n",
       "8                             488.000   \n",
       "9                             266.000   \n",
       "\n",
       "   Aantal aansluitingen met opwekinstallatie  Opgesteld vermogen  \n",
       "0                                      155.0             507.000  \n",
       "1                                      479.0               1.685  \n",
       "2                                      439.0               1.616  \n",
       "3                                       97.0             405.000  \n",
       "4                                       21.0              61.000  \n",
       "5                                       31.0             166.000  \n",
       "6                                      534.0               1.656  \n",
       "7                                       24.0              93.000  \n",
       "8                                      196.0               1.109  \n",
       "9                                      107.0             585.000  "
      ]
     },
     "metadata": {},
     "output_type": "display_data"
    },
    {
     "name": "stdout",
     "output_type": "stream",
     "text": [
      "Numerical data:\n"
     ]
    },
    {
     "data": {
      "text/html": [
       "<div>\n",
       "<style scoped>\n",
       "    .dataframe tbody tr th:only-of-type {\n",
       "        vertical-align: middle;\n",
       "    }\n",
       "\n",
       "    .dataframe tbody tr th {\n",
       "        vertical-align: top;\n",
       "    }\n",
       "\n",
       "    .dataframe thead th {\n",
       "        text-align: right;\n",
       "    }\n",
       "</style>\n",
       "<table border=\"1\" class=\"dataframe\">\n",
       "  <thead>\n",
       "    <tr style=\"text-align: right;\">\n",
       "      <th></th>\n",
       "      <th>ï»¿Peildatum</th>\n",
       "      <th>CBS Buurtcode</th>\n",
       "      <th>Aantal aansluitingen in CBS-buurt</th>\n",
       "      <th>Aantal aansluitingen met opwekinstallatie</th>\n",
       "      <th>Opgesteld vermogen</th>\n",
       "    </tr>\n",
       "  </thead>\n",
       "  <tbody>\n",
       "    <tr>\n",
       "      <th>count</th>\n",
       "      <td>3890.000000</td>\n",
       "      <td>3729.0</td>\n",
       "      <td>3890.000000</td>\n",
       "      <td>3890.000000</td>\n",
       "      <td>3890.000000</td>\n",
       "    </tr>\n",
       "    <tr>\n",
       "      <th>mean</th>\n",
       "      <td>202000.421875</td>\n",
       "      <td>9669262.0</td>\n",
       "      <td>267.369446</td>\n",
       "      <td>101.218048</td>\n",
       "      <td>293.752686</td>\n",
       "    </tr>\n",
       "    <tr>\n",
       "      <th>std</th>\n",
       "      <td>0.578199</td>\n",
       "      <td>6547955.0</td>\n",
       "      <td>268.375946</td>\n",
       "      <td>115.934563</td>\n",
       "      <td>232.852905</td>\n",
       "    </tr>\n",
       "    <tr>\n",
       "      <th>min</th>\n",
       "      <td>202001.000000</td>\n",
       "      <td>30000.0</td>\n",
       "      <td>1.002000</td>\n",
       "      <td>1.007000</td>\n",
       "      <td>1.006000</td>\n",
       "    </tr>\n",
       "    <tr>\n",
       "      <th>25%</th>\n",
       "      <td>202001.000000</td>\n",
       "      <td>1890107.0</td>\n",
       "      <td>45.250000</td>\n",
       "      <td>27.000000</td>\n",
       "      <td>116.000000</td>\n",
       "    </tr>\n",
       "    <tr>\n",
       "      <th>50%</th>\n",
       "      <td>202001.000000</td>\n",
       "      <td>8551707.0</td>\n",
       "      <td>183.000000</td>\n",
       "      <td>59.000000</td>\n",
       "      <td>236.500000</td>\n",
       "    </tr>\n",
       "    <tr>\n",
       "      <th>75%</th>\n",
       "      <td>202001.000000</td>\n",
       "      <td>16900600.0</td>\n",
       "      <td>419.000000</td>\n",
       "      <td>130.000000</td>\n",
       "      <td>432.000000</td>\n",
       "    </tr>\n",
       "    <tr>\n",
       "      <th>max</th>\n",
       "      <td>202001.000000</td>\n",
       "      <td>19870308.0</td>\n",
       "      <td>999.000000</td>\n",
       "      <td>958.000000</td>\n",
       "      <td>998.000000</td>\n",
       "    </tr>\n",
       "  </tbody>\n",
       "</table>\n",
       "</div>"
      ],
      "text/plain": [
       "        ï»¿Peildatum  CBS Buurtcode  Aantal aansluitingen in CBS-buurt   \\\n",
       "count    3890.000000         3729.0                         3890.000000   \n",
       "mean   202000.421875      9669262.0                          267.369446   \n",
       "std         0.578199      6547955.0                          268.375946   \n",
       "min    202001.000000        30000.0                            1.002000   \n",
       "25%    202001.000000      1890107.0                           45.250000   \n",
       "50%    202001.000000      8551707.0                          183.000000   \n",
       "75%    202001.000000     16900600.0                          419.000000   \n",
       "max    202001.000000     19870308.0                          999.000000   \n",
       "\n",
       "       Aantal aansluitingen met opwekinstallatie  Opgesteld vermogen  \n",
       "count                                3890.000000         3890.000000  \n",
       "mean                                  101.218048          293.752686  \n",
       "std                                   115.934563          232.852905  \n",
       "min                                     1.007000            1.006000  \n",
       "25%                                    27.000000          116.000000  \n",
       "50%                                    59.000000          236.500000  \n",
       "75%                                   130.000000          432.000000  \n",
       "max                                   958.000000          998.000000  "
      ]
     },
     "metadata": {},
     "output_type": "display_data"
    },
    {
     "name": "stdout",
     "output_type": "stream",
     "text": [
      "Textual data:\n"
     ]
    },
    {
     "data": {
      "text/html": [
       "<div>\n",
       "<style scoped>\n",
       "    .dataframe tbody tr th:only-of-type {\n",
       "        vertical-align: middle;\n",
       "    }\n",
       "\n",
       "    .dataframe tbody tr th {\n",
       "        vertical-align: top;\n",
       "    }\n",
       "\n",
       "    .dataframe thead th {\n",
       "        text-align: right;\n",
       "    }\n",
       "</style>\n",
       "<table border=\"1\" class=\"dataframe\">\n",
       "  <thead>\n",
       "    <tr style=\"text-align: right;\">\n",
       "      <th></th>\n",
       "      <th>Netbeheerder</th>\n",
       "      <th>Provincie</th>\n",
       "      <th>Gemeente</th>\n",
       "      <th>CBS Buurt</th>\n",
       "    </tr>\n",
       "  </thead>\n",
       "  <tbody>\n",
       "    <tr>\n",
       "      <th>count</th>\n",
       "      <td>3890</td>\n",
       "      <td>3889</td>\n",
       "      <td>3888</td>\n",
       "      <td>3757</td>\n",
       "    </tr>\n",
       "    <tr>\n",
       "      <th>unique</th>\n",
       "      <td>1</td>\n",
       "      <td>5</td>\n",
       "      <td>142</td>\n",
       "      <td>3632</td>\n",
       "    </tr>\n",
       "    <tr>\n",
       "      <th>top</th>\n",
       "      <td>Enexis</td>\n",
       "      <td>Noord-Brabant</td>\n",
       "      <td>Groningen</td>\n",
       "      <td>Centrum</td>\n",
       "    </tr>\n",
       "    <tr>\n",
       "      <th>freq</th>\n",
       "      <td>3890</td>\n",
       "      <td>1394</td>\n",
       "      <td>98</td>\n",
       "      <td>17</td>\n",
       "    </tr>\n",
       "  </tbody>\n",
       "</table>\n",
       "</div>"
      ],
      "text/plain": [
       "       Netbeheerder      Provincie   Gemeente CBS Buurt \n",
       "count          3890           3889       3888       3757\n",
       "unique            1              5        142       3632\n",
       "top          Enexis  Noord-Brabant  Groningen    Centrum\n",
       "freq           3890           1394         98         17"
      ]
     },
     "metadata": {},
     "output_type": "display_data"
    },
    {
     "name": "stdout",
     "output_type": "stream",
     "text": [
      "Features and their number of missing values:\n"
     ]
    },
    {
     "data": {
      "text/plain": [
       "'ï»¿Peildatum (757, 16.3%), Netbeheerder (757, 16.3%), Provincie (758, 16.3%), Gemeente (759, 16.3%), CBS Buurt  (890, 19.2%), CBS Buurtcode (918, 19.8%), Aantal aansluitingen in CBS-buurt  (757, 16.3%), Aantal aansluitingen met opwekinstallatie (757, 16.3%), and Opgesteld vermogen (757, 16.3%)'"
      ]
     },
     "metadata": {},
     "output_type": "display_data"
    }
   ],
   "source": [
    "f_describe(df)"
   ]
  },
  {
   "cell_type": "code",
   "execution_count": 101,
   "metadata": {
    "colab": {
     "base_uri": "https://localhost:8080/",
     "height": 297
    },
    "executionInfo": {
     "elapsed": 29137,
     "status": "ok",
     "timestamp": 1608136587803,
     "user": {
      "displayName": "pi1234",
      "photoUrl": "",
      "userId": "00485952581093036663"
     },
     "user_tz": -60
    },
    "id": "BdzdN9Qi9hjw",
    "outputId": "33222be8-68da-4d56-ffe4-00c6175740fc"
   },
   "outputs": [
    {
     "name": "stdout",
     "output_type": "stream",
     "text": [
      "Frequentietabel voor 'Netbeheerder', we tonen alle 2 levels:\n",
      "\n",
      "'None': 0 (0.0%)\n",
      "'NA':   757 (16.3%)\n"
     ]
    },
    {
     "data": {
      "text/html": [
       "<style  type=\"text/css\" >\n",
       "</style><table id=\"T_d6df5bfa_4f57_11eb_97ab_acde48001122\" ><thead>    <tr>        <th class=\"col_heading level0 col0\" >level</th>        <th class=\"col_heading level0 col1\" >n</th>        <th class=\"col_heading level0 col2\" >perc</th>    </tr></thead><tbody>\n",
       "                <tr>\n",
       "                                <td id=\"T_d6df5bfa_4f57_11eb_97ab_acde48001122row0_col0\" class=\"data row0 col0\" >Enexis</td>\n",
       "                        <td id=\"T_d6df5bfa_4f57_11eb_97ab_acde48001122row0_col1\" class=\"data row0 col1\" >3890</td>\n",
       "                        <td id=\"T_d6df5bfa_4f57_11eb_97ab_acde48001122row0_col2\" class=\"data row0 col2\" >83.7%</td>\n",
       "            </tr>\n",
       "            <tr>\n",
       "                                <td id=\"T_d6df5bfa_4f57_11eb_97ab_acde48001122row1_col0\" class=\"data row1 col0\" >nan</td>\n",
       "                        <td id=\"T_d6df5bfa_4f57_11eb_97ab_acde48001122row1_col1\" class=\"data row1 col1\" >757</td>\n",
       "                        <td id=\"T_d6df5bfa_4f57_11eb_97ab_acde48001122row1_col2\" class=\"data row1 col2\" >16.3%</td>\n",
       "            </tr>\n",
       "    </tbody></table>"
      ],
      "text/plain": [
       "<pandas.io.formats.style.Styler at 0x7fd688ee6810>"
      ]
     },
     "metadata": {},
     "output_type": "display_data"
    },
    {
     "data": {
      "image/png": "[encoded data removed]",
      "text/plain": [
       "<Figure size 1080x360 with 1 Axes>"
      ]
     },
     "metadata": {
      "needs_background": "light"
     },
     "output_type": "display_data"
    }
   ],
   "source": [
    "#f_info(df, \"AANSLUITINGEN_AANTAL\")\n",
    "#f_info(df, \"WON_6574\")\n",
    "f_info(df, \"Netbeheerder\")"
   ]
  },
  {
   "cell_type": "code",
   "execution_count": null,
   "metadata": {},
   "outputs": [],
   "source": []
  }
 ],
 "metadata": {
  "colab": {
   "authorship_tag": "ABX9TyP1XEh6OeJMgPK4tWBSiOU8",
   "collapsed_sections": [],
   "mount_file_id": "1tas4gpn15avV6RH91pDuPfl4mfnjqven",
   "name": "Copy of 2020 12 13 - EyeOn Supermarket - v1.ipynb",
   "provenance": [
    {
     "file_id": "1tas4gpn15avV6RH91pDuPfl4mfnjqven",
     "timestamp": 1608148229653
    }
   ],
   "toc_visible": true
  },
  "kernelspec": {
   "display_name": "Python 3",
   "language": "python",
   "name": "python3"
  },
  "language_info": {
   "codemirror_mode": {
    "name": "ipython",
    "version": 3
   },
   "file_extension": ".py",
   "mimetype": "text/x-python",
   "name": "python",
   "nbconvert_exporter": "python",
   "pygments_lexer": "ipython3",
   "version": "3.7.6"
  }
 },
 "nbformat": 4,
 "nbformat_minor": 1
}
