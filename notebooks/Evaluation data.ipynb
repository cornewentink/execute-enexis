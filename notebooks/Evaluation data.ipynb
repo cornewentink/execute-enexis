{
 "cells": [
  {
   "cell_type": "markdown",
   "id": "733c2cdb",
   "metadata": {},
   "source": [
    "### Samenstellen dataset voor kwalitatieve evaluatie clustering\n",
    "In dit notebook worden diverse datasets met gegevens van gemeenten samengevoegd om gebruikt te gaan worden voor de evaluatie van de clustering van gemeentelijke duurzaamheidsvisies. De dataset bevat gegevens over:\n",
    "- kleur van gemeente\n",
    "- gemeente grootte\n",
    "- gemiddeld inkomen\n",
    "- energiegebruik woningen\n",
    "- hernieuwbare energie (wind en zon)"
   ]
  },
  {
   "cell_type": "code",
   "execution_count": 20,
   "id": "4615bd78",
   "metadata": {},
   "outputs": [],
   "source": [
    "import pandas as pd\n",
    "from matplotlib import pyplot as plt"
   ]
  },
  {
   "cell_type": "code",
   "execution_count": 21,
   "id": "656d73ef",
   "metadata": {},
   "outputs": [],
   "source": [
    "# Inladen en bewerken van de dataset met gegevens over de politieke kleur van de gemeente.\n",
    "# De dataset bevat gegevens de verkiezingsuitslag per partij (Stem), politieke kleur burgemeester (Burg),\n",
    "# samenstelling college B&W (Weth) en zetelverdeling in de gemeenteraad (Raad) in 2016\n",
    "# (bron: Vereniging Nederlandse Gemeenten, www.waarstaatjegemeente.nl)\n",
    "politiek = pd.read_csv(\"../data/CBS/Politiek.csv\", sep=\";\")\n",
    "\n",
    "# Bepalen van de partij met het grootste aantal stemmen tijdens de verkiezingen\n",
    "politiek['Meeste_stemmen'] = politiek.loc[:, 'Stem_Lokaal':'Stem_PvdD'].idxmax(axis=1)\n",
    "politiek['Meeste_stemmen'] = politiek['Meeste_stemmen'].str.slice(5)\n",
    "\n",
    "# Bepalen van de partij met de meeste wethouders in het college van B&W\n",
    "politiek['College_partij'] = politiek.loc[:, 'Weth_Lokaal':'Weth_SGP'].idxmax(axis=1)\n",
    "politiek['College_partij'] = politiek['College_partij'].str.slice(5)\n",
    "\n",
    "# Bepalen van de partij met de meeste zetels in de raad\n",
    "politiek['Meeste_zetels'] = politiek.loc[:, 'Raad_Lokaal':'Raad_SGP'].idxmax(axis=1)\n",
    "politiek['Meeste_zetels'] = politiek['Meeste_zetels'].str.slice(5)"
   ]
  },
  {
   "cell_type": "code",
   "execution_count": 22,
   "id": "20d816cb",
   "metadata": {},
   "outputs": [],
   "source": [
    "# Inladen van de dataset met kerngegevens van gemeenten (bron: CBS, statline)\n",
    "# de dataset bevat gegevens over aantal inwoners, totaal inkomen, omgevingsadressendichtheid en provincie in 2016\n",
    "kern = pd.read_csv(\"../data/CBS/Regionale_kerncijfers.csv\", sep=\";\", decimal=\",\")\n",
    "\n",
    "# omzetten van aantal inwoners naar klasse van gemeentegrootte (meest gebruikte indeling CBS)\n",
    "gemgrootte = [\"Klein\", \"Middelgroot\", \"Groot\", \"Grootste vier\"]\n",
    "kern['Gemeentegrootte'] = pd.cut(kern['Inwoners'], bins=[0, 30000, 100000, 250000, 5000000], labels=gemgrootte)\n",
    "\n",
    "# omzetten van gemiddeld inkomen huishoudens naar inkomensklasse (eigen indeling o.b.v. histogram)\n",
    "inkcat = [\"Arm\", \"Laag\", \"Modaal\", \"Hoog\", \"Rijk\"]\n",
    "kern['Inkomens_categorie'] = pd.cut(kern['Inkomen'], bins=[0, 36, 40, 45, 50, 100], labels=inkcat)\n",
    "\n",
    "# omzetten van omgevingsadressendichtheid naar stedelijkheidsgraad (indeling volgens CBS)\n",
    "stedelijk = [\"niet stedelijk\", \"weinig stedelijk\", \"matig stedelijk\", \"sterk stedelijk\", \"zeer sterk stedelijk\"]\n",
    "kern['Stedelijkheidsgraad'] = pd.cut(kern['OAD'], bins=[0, 500, 1000, 1500, 2500, 10000], labels=stedelijk)"
   ]
  },
  {
   "cell_type": "code",
   "execution_count": 23,
   "id": "6db20f78",
   "metadata": {},
   "outputs": [
    {
     "name": "stderr",
     "output_type": "stream",
     "text": [
      "/tmp/ipykernel_5446/1514375671.py:6: SettingWithCopyWarning: \n",
      "A value is trying to be set on a copy of a slice from a DataFrame\n",
      "\n",
      "See the caveats in the documentation: https://pandas.pydata.org/pandas-docs/stable/user_guide/indexing.html#returning-a-view-versus-a-copy\n",
      "  hernieuw12['Windenergie_2012'][hernieuw12['Wind'].notnull()] = \\\n",
      "/tmp/ipykernel_5446/1514375671.py:11: SettingWithCopyWarning: \n",
      "A value is trying to be set on a copy of a slice from a DataFrame\n",
      "\n",
      "See the caveats in the documentation: https://pandas.pydata.org/pandas-docs/stable/user_guide/indexing.html#returning-a-view-versus-a-copy\n",
      "  hernieuw12['Zonneenergie_2012'][hernieuw12['Zon'].notnull()] = \\\n"
     ]
    }
   ],
   "source": [
    "# Inladen van dataset met gegevens over de opwek van zonne- en windenergie in gemeenten in 2012 (bron: klimaatmonitor)\n",
    "hernieuw12 = pd.read_csv(\"../data/CBS/Hernieuwbare_energie.csv\")\n",
    "\n",
    "# Hoeveelheid windenergie omzetten naar grootteklasse\n",
    "hernieuw12['Windenergie_2012'] = \"Geen\"\n",
    "hernieuw12['Windenergie_2012'][hernieuw12['Wind'].notnull()] = \\\n",
    "    pd.cut(hernieuw12['Wind'], bins=[-1, 25, 100, 10000], labels=[\"Beperkt\", \"Gemiddeld\", \"Veel\"])\n",
    "\n",
    "# Hoeveelheid zonne-energie omzetten naar grootteklasse\n",
    "hernieuw12['Zonneenergie_2012'] = \"Geen\"\n",
    "hernieuw12['Zonneenergie_2012'][hernieuw12['Zon'].notnull()] = \\\n",
    "    pd.cut(hernieuw12['Zon'], bins=[-1, 1, 4, 15], labels=[\"Beperkt\", \"Gemiddeld\", \"Veel\"])"
   ]
  },
  {
   "cell_type": "code",
   "execution_count": 24,
   "id": "30245b7f",
   "metadata": {},
   "outputs": [
    {
     "name": "stderr",
     "output_type": "stream",
     "text": [
      "/tmp/ipykernel_5446/2370027798.py:6: SettingWithCopyWarning: \n",
      "A value is trying to be set on a copy of a slice from a DataFrame\n",
      "\n",
      "See the caveats in the documentation: https://pandas.pydata.org/pandas-docs/stable/user_guide/indexing.html#returning-a-view-versus-a-copy\n",
      "  hernieuw21['Windenergie_2021'][hernieuw21['Wind'].notnull()] = \\\n",
      "/tmp/ipykernel_5446/2370027798.py:11: SettingWithCopyWarning: \n",
      "A value is trying to be set on a copy of a slice from a DataFrame\n",
      "\n",
      "See the caveats in the documentation: https://pandas.pydata.org/pandas-docs/stable/user_guide/indexing.html#returning-a-view-versus-a-copy\n",
      "  hernieuw21['Zonneenergie_2021'][hernieuw21['Zon'].notnull()] = \\\n"
     ]
    }
   ],
   "source": [
    "# Inladen van dataset met gegevens over de opwek van zonne- en windenergie in gemeenten in 2021 (bron: klimaatmonitor)\n",
    "hernieuw21 = pd.read_csv(\"../data/CBS/Hernieuwbare_elektriciteit.csv\")\n",
    "\n",
    "# Hoeveelheid windenergie omzetten naar grootteklasse\n",
    "hernieuw21['Windenergie_2021'] = \"Geen\"\n",
    "hernieuw21['Windenergie_2021'][hernieuw21['Wind'].notnull()] = \\\n",
    "    pd.cut(hernieuw21['Wind'], bins=[-1, 25, 200, 10000], labels=[\"Beperkt\", \"Gemiddeld\", \"Veel\"])\n",
    "\n",
    "# Hoeveelheid zonne-energie omzetten naar grootteklasse\n",
    "hernieuw21['Zonneenergie_2021'] = \"Geen\"\n",
    "hernieuw21['Zonneenergie_2021'][hernieuw21['Zon'].notnull()] = \\\n",
    "    pd.cut(hernieuw21['Zon'], bins=[-1, 50, 200, 1000], labels=[\"Beperkt\", \"Gemiddeld\", \"Veel\"])"
   ]
  },
  {
   "cell_type": "code",
   "execution_count": 25,
   "id": "6d1e5b8e",
   "metadata": {},
   "outputs": [],
   "source": [
    "# Samenvoegen van de dataset met hernieuwbare energie uit 2015 en 2021 om de groei te bepalen\n",
    "hernieuw12agg = hernieuw12.groupby('Gemeente_2023')[['Wind', 'Zon']].sum()\n",
    "hernieuw_tot = hernieuw21[['Gemeenten', 'Wind', 'Zon']]. \\\n",
    "    merge(hernieuw12agg, how=\"left\", left_on='Gemeenten', right_on='Gemeente_2023', suffixes=(\"_2021\", \"_2012\"))\n",
    "\n",
    "# Berekenen groei van de hoeveelheid opgewekte zonne- en windenergie\n",
    "hernieuw_tot = hernieuw_tot.fillna(0)\n",
    "hernieuw_tot['Wind_groei'] = hernieuw_tot['Wind_2021'] - hernieuw_tot['Wind_2012']\n",
    "hernieuw_tot['Zon_groei'] = hernieuw_tot['Zon_2021'] - hernieuw_tot['Zon_2012']\n",
    "\n",
    "# Groei zonne- en windenergie omzetten naar grootteklasse\n",
    "hernieuw_tot['Windenergie_groei'] = pd.cut(hernieuw_tot['Wind_groei'], \\\n",
    "    bins=[-100, 0, 25, 200, 10000], labels=[\"Geen\", \"Beperkt\", \"Gemiddeld\", \"Veel\"])\n",
    "hernieuw_tot['Zonneenergie_groei'] = pd.cut(hernieuw_tot['Zon_groei'], \\\n",
    "    bins=[-100, 0, 50, 200, 1000], labels=[\"Geen\", \"Beperkt\", \"Gemiddeld\", \"Veel\"])"
   ]
  },
  {
   "cell_type": "code",
   "execution_count": 26,
   "id": "b7f0ffbb",
   "metadata": {},
   "outputs": [],
   "source": [
    "# Inladen gegevens gemiddeld energiegebruik woningen 2016 (bron: CBS, statline)\n",
    "woning16 = pd.read_csv(\"../data/CBS/Energieverbruik_woningen.csv\", sep=\",\", decimal=\",\", na_values=\".\")\n",
    "woning16 = woning16.drop(woning16[woning16['Aardgas'].isnull() & woning16['Elektriciteit'].isnull()].index)\n",
    "\n",
    "# Omzetten gebruik aardgas en elektriciteit naar grootteklasse\n",
    "energie = [\"Laag\", \"Middel\", \"Hoog\"]\n",
    "woning16['Aardgas_2016_cat'] = pd.cut(woning16['Aardgas'], bins=[0, 1300, 1700, 3000], labels=energie)\n",
    "woning16['Elektriciteit_2016_cat'] = pd.cut(woning16['Elektriciteit'], bins=[0, 2900, 3300, 5000], labels=energie)"
   ]
  },
  {
   "cell_type": "code",
   "execution_count": 27,
   "id": "c3bfbf49",
   "metadata": {},
   "outputs": [],
   "source": [
    "# Inladen gegevens energiegebruik woningen 2021 (bron: klimaatmonitor)\n",
    "# de dataset bevat ook de gegevens voor 2016 om de ontwikkeling in energiegebruik uit te rekenen\n",
    "# het gebruik van aardgas is temperatuur gecorrigeerd, hierdoor kan deze afwijken van de gegevens van het CBS\n",
    "woning21 = pd.read_csv(\"../data/CBS/Woningen_2021.csv\", na_values=\"-\")\n",
    "\n",
    "# Berekening verschil in energiegebruik tussen 2016 en 2021\n",
    "woning21['aardgas_verschil'] = woning21['aardgas_2021'] - woning21['aardgas_2016']\n",
    "woning21['elektriciteit_verschil'] = woning21['elektriciteit_2021'] - woning21['elektriciteit_2016']\n",
    "\n",
    "# Omzetten gebruik aardgas en elektriciteit naar grootteklasse\n",
    "energie = [\"Laag\", \"Middel\", \"Hoog\"]\n",
    "woning21['Aardgas_2021_cat'] = pd.cut(woning21['aardgas_2021'], bins=[0, 1300, 1700, 3000], labels=energie)\n",
    "woning21['Elektriciteit_2021_cat'] = \\\n",
    "    pd.cut(woning21['elektriciteit_2021'], bins=[0, 2900, 3300, 5000], labels=energie)\n",
    "\n",
    "# Omzetten gebruik aardgas en elektriciteit naar grootteklasse\n",
    "verschil = [\"veel lager\", \"iets minder\", \"meer\"]\n",
    "woning21['Aardgas_verschil_cat'] = pd.cut(woning21['aardgas_verschil'], \\\n",
    "    bins=[-500, -75, 0, 100], labels=verschil)\n",
    "woning21['Elektriciteit_verschil_cat'] = pd.cut(woning21['elektriciteit_verschil'], \\\n",
    "    bins=[-1000, -150, 0, 200], labels=verschil)"
   ]
  },
  {
   "cell_type": "code",
   "execution_count": 28,
   "id": "3897998f",
   "metadata": {},
   "outputs": [],
   "source": [
    "# Samenvoegen alle bepaalde variabelen in één dataframe zodat deze gebruikt kan worden voor verdere analyse\n",
    "# De gegevens worden samengevoegd voor gemeenten van 2016 omdat dit de indeling is die gebruikt wordt voor\n",
    "# documentanalyse. De waarden voor wind- en zonne-energie uit 2021 en de groei daarvan worden de waarden van\n",
    "# nieuwe gemeenten meerdere keren overgenomen.\n",
    "eval_data = kern.loc[:, [\"GM_Code\", \"Gemeente\", \"PV\", \"Gemeentegrootte\", \"Inkomens_categorie\", \"Stedelijkheidsgraad\"]]\n",
    "eval_data = eval_data.merge(politiek[['GemCode', 'Meeste_zetels']], \\\n",
    "    how=\"left\", left_on='GM_Code', right_on='GemCode').drop('GemCode', axis=1)\n",
    "\n",
    "# samenvoegen hernieuwbare energie\n",
    "hernieuw_sam = \\\n",
    "    hernieuw12.loc[:, ['Gemeente', 'Gemeente_CBS', 'Gemeente_2023', 'Windenergie_2012', 'Zonneenergie_2012']]\n",
    "hernieuw_sam = hernieuw_sam.merge(hernieuw21[['Gemeenten', 'Windenergie_2021', 'Zonneenergie_2021']], \\\n",
    "    how=\"left\", left_on='Gemeente_2023', right_on='Gemeenten').drop('Gemeenten', axis=1)\n",
    "hernieuw_sam = hernieuw_sam.merge(hernieuw_tot[['Gemeenten', 'Windenergie_groei', 'Zonneenergie_groei']], \\\n",
    "    how=\"left\", left_on='Gemeente_2023', right_on='Gemeenten').drop('Gemeenten', axis=1)\n",
    "\n",
    "\n",
    "# samenvoegen energiegebruik\n",
    "energie_sam = hernieuw_sam.iloc[:, 0:3]\n",
    "woning16 = woning16.rename(columns={'Gemeente': 'Gemeenten'})\n",
    "energie_sam = energie_sam.merge(woning16[['Gemeenten', 'Aardgas_2016_cat', 'Elektriciteit_2016_cat']], \\\n",
    "    how=\"left\", left_on='Gemeente_CBS', right_on='Gemeenten').drop('Gemeenten', axis=1)\n",
    "energie_sam = energie_sam.merge( \\\n",
    "    woning21[['Gemeenten', 'Aardgas_2021_cat', 'Elektriciteit_2021_cat', \\\n",
    "    'Aardgas_verschil_cat', 'Elektriciteit_verschil_cat']], \\\n",
    "    how=\"left\", left_on='Gemeente_2023', right_on='Gemeenten').drop('Gemeenten', axis=1)\n",
    "\n",
    "# samenvoegen algemene gegevens met energiegegevens\n",
    "hernieuw_sam = hernieuw_sam.drop(['Gemeente', 'Gemeente_2023'], axis=1)\n",
    "energie_sam = energie_sam.drop(['Gemeente', 'Gemeente_2023'], axis=1)\n",
    "eval_data = eval_data.merge(hernieuw_sam, how=\"left\", left_on='Gemeente', right_on='Gemeente_CBS'). \\\n",
    "    drop('Gemeente_CBS', axis=1)\n",
    "eval_data = eval_data.merge(energie_sam, how=\"left\", left_on='Gemeente', right_on='Gemeente_CBS'). \\\n",
    "    drop('Gemeente_CBS', axis=1)"
   ]
  },
  {
   "cell_type": "code",
   "execution_count": 29,
   "id": "46f1b472",
   "metadata": {},
   "outputs": [],
   "source": [
    "# opslaan van dataframe om te worden gebruikt voor verdere analyse\n",
    "eval_data.to_parquet(\"../data/CBS/Evaluation_data.parquet\")"
   ]
  },
  {
   "cell_type": "code",
   "execution_count": null,
   "id": "df01f023",
   "metadata": {},
   "outputs": [],
   "source": []
  }
 ],
 "metadata": {
  "kernelspec": {
   "display_name": "Python 3 (ipykernel)",
   "language": "python",
   "name": "python3"
  },
  "language_info": {
   "codemirror_mode": {
    "name": "ipython",
    "version": 3
   },
   "file_extension": ".py",
   "mimetype": "text/x-python",
   "name": "python",
   "nbconvert_exporter": "python",
   "pygments_lexer": "ipython3",
   "version": "3.10.4"
  }
 },
 "nbformat": 4,
 "nbformat_minor": 5
}
